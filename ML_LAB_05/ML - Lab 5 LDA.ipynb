{
 "cells": [
  {
   "cell_type": "markdown",
   "metadata": {},
   "source": [
    "**MACHINE LEARNING LAB - 05/08/2020 | SANDHYA M (1947139) -  3MCS**\n",
    "\n",
    "**Lab Session 5 - Linear Discriminant Analysis**"
   ]
  },
  {
   "cell_type": "markdown",
   "metadata": {},
   "source": [
    "1. Linear discriminant analysis is supervised machine learning, the technique used to find a linear combination of features that separates two or more classes of objects or events. \n",
    "\n",
    "2. The goal of LDA is to discriminate different classes in low dimensional space by retaining the components containing feature values that have the best separation across classes. "
   ]
  },
  {
   "cell_type": "markdown",
   "metadata": {},
   "source": [
    "**Step 1: Importing Packages**"
   ]
  },
  {
   "cell_type": "code",
   "execution_count": 3,
   "metadata": {},
   "outputs": [],
   "source": [
    "from sklearn.datasets import load_wine\n",
    "import pandas as pd\n",
    "import numpy as np\n",
    "from matplotlib import pyplot as plt\n",
    "from sklearn.preprocessing import LabelEncoder\n",
    "from sklearn.ensemble import RandomForestClassifier\n",
    "from sklearn.model_selection import train_test_split\n",
    "from sklearn.metrics import confusion_matrix"
   ]
  },
  {
   "cell_type": "markdown",
   "metadata": {},
   "source": [
    "**Step2: Loading Dataset and separating the dependent and and independent variable**"
   ]
  },
  {
   "cell_type": "code",
   "execution_count": 5,
   "metadata": {},
   "outputs": [],
   "source": [
    "winedataset = load_wine()\n",
    "independentVariables = pd.DataFrame(winedataset.data, columns = winedataset.feature_names)\n",
    "dependentVariable = pd.Categorical.from_codes(winedataset.target, winedataset.target_names)"
   ]
  },
  {
   "cell_type": "markdown",
   "metadata": {
    "collapsed": true
   },
   "source": [
    "**Step3: Independent Variables**"
   ]
  },
  {
   "cell_type": "code",
   "execution_count": 6,
   "metadata": {},
   "outputs": [
    {
     "data": {
      "text/html": [
       "<div>\n",
       "<style scoped>\n",
       "    .dataframe tbody tr th:only-of-type {\n",
       "        vertical-align: middle;\n",
       "    }\n",
       "\n",
       "    .dataframe tbody tr th {\n",
       "        vertical-align: top;\n",
       "    }\n",
       "\n",
       "    .dataframe thead th {\n",
       "        text-align: right;\n",
       "    }\n",
       "</style>\n",
       "<table border=\"1\" class=\"dataframe\">\n",
       "  <thead>\n",
       "    <tr style=\"text-align: right;\">\n",
       "      <th></th>\n",
       "      <th>alcohol</th>\n",
       "      <th>malic_acid</th>\n",
       "      <th>ash</th>\n",
       "      <th>alcalinity_of_ash</th>\n",
       "      <th>magnesium</th>\n",
       "      <th>total_phenols</th>\n",
       "      <th>flavanoids</th>\n",
       "      <th>nonflavanoid_phenols</th>\n",
       "      <th>proanthocyanins</th>\n",
       "      <th>color_intensity</th>\n",
       "      <th>hue</th>\n",
       "      <th>od280/od315_of_diluted_wines</th>\n",
       "      <th>proline</th>\n",
       "    </tr>\n",
       "  </thead>\n",
       "  <tbody>\n",
       "    <tr>\n",
       "      <td>0</td>\n",
       "      <td>14.23</td>\n",
       "      <td>1.71</td>\n",
       "      <td>2.43</td>\n",
       "      <td>15.6</td>\n",
       "      <td>127.0</td>\n",
       "      <td>2.80</td>\n",
       "      <td>3.06</td>\n",
       "      <td>0.28</td>\n",
       "      <td>2.29</td>\n",
       "      <td>5.64</td>\n",
       "      <td>1.04</td>\n",
       "      <td>3.92</td>\n",
       "      <td>1065.0</td>\n",
       "    </tr>\n",
       "    <tr>\n",
       "      <td>1</td>\n",
       "      <td>13.20</td>\n",
       "      <td>1.78</td>\n",
       "      <td>2.14</td>\n",
       "      <td>11.2</td>\n",
       "      <td>100.0</td>\n",
       "      <td>2.65</td>\n",
       "      <td>2.76</td>\n",
       "      <td>0.26</td>\n",
       "      <td>1.28</td>\n",
       "      <td>4.38</td>\n",
       "      <td>1.05</td>\n",
       "      <td>3.40</td>\n",
       "      <td>1050.0</td>\n",
       "    </tr>\n",
       "    <tr>\n",
       "      <td>2</td>\n",
       "      <td>13.16</td>\n",
       "      <td>2.36</td>\n",
       "      <td>2.67</td>\n",
       "      <td>18.6</td>\n",
       "      <td>101.0</td>\n",
       "      <td>2.80</td>\n",
       "      <td>3.24</td>\n",
       "      <td>0.30</td>\n",
       "      <td>2.81</td>\n",
       "      <td>5.68</td>\n",
       "      <td>1.03</td>\n",
       "      <td>3.17</td>\n",
       "      <td>1185.0</td>\n",
       "    </tr>\n",
       "    <tr>\n",
       "      <td>3</td>\n",
       "      <td>14.37</td>\n",
       "      <td>1.95</td>\n",
       "      <td>2.50</td>\n",
       "      <td>16.8</td>\n",
       "      <td>113.0</td>\n",
       "      <td>3.85</td>\n",
       "      <td>3.49</td>\n",
       "      <td>0.24</td>\n",
       "      <td>2.18</td>\n",
       "      <td>7.80</td>\n",
       "      <td>0.86</td>\n",
       "      <td>3.45</td>\n",
       "      <td>1480.0</td>\n",
       "    </tr>\n",
       "    <tr>\n",
       "      <td>4</td>\n",
       "      <td>13.24</td>\n",
       "      <td>2.59</td>\n",
       "      <td>2.87</td>\n",
       "      <td>21.0</td>\n",
       "      <td>118.0</td>\n",
       "      <td>2.80</td>\n",
       "      <td>2.69</td>\n",
       "      <td>0.39</td>\n",
       "      <td>1.82</td>\n",
       "      <td>4.32</td>\n",
       "      <td>1.04</td>\n",
       "      <td>2.93</td>\n",
       "      <td>735.0</td>\n",
       "    </tr>\n",
       "  </tbody>\n",
       "</table>\n",
       "</div>"
      ],
      "text/plain": [
       "   alcohol  malic_acid   ash  alcalinity_of_ash  magnesium  total_phenols  \\\n",
       "0    14.23        1.71  2.43               15.6      127.0           2.80   \n",
       "1    13.20        1.78  2.14               11.2      100.0           2.65   \n",
       "2    13.16        2.36  2.67               18.6      101.0           2.80   \n",
       "3    14.37        1.95  2.50               16.8      113.0           3.85   \n",
       "4    13.24        2.59  2.87               21.0      118.0           2.80   \n",
       "\n",
       "   flavanoids  nonflavanoid_phenols  proanthocyanins  color_intensity   hue  \\\n",
       "0        3.06                  0.28             2.29             5.64  1.04   \n",
       "1        2.76                  0.26             1.28             4.38  1.05   \n",
       "2        3.24                  0.30             2.81             5.68  1.03   \n",
       "3        3.49                  0.24             2.18             7.80  0.86   \n",
       "4        2.69                  0.39             1.82             4.32  1.04   \n",
       "\n",
       "   od280/od315_of_diluted_wines  proline  \n",
       "0                          3.92   1065.0  \n",
       "1                          3.40   1050.0  \n",
       "2                          3.17   1185.0  \n",
       "3                          3.45   1480.0  \n",
       "4                          2.93    735.0  "
      ]
     },
     "execution_count": 6,
     "metadata": {},
     "output_type": "execute_result"
    }
   ],
   "source": [
    "independentVariables.head()"
   ]
  },
  {
   "cell_type": "markdown",
   "metadata": {},
   "source": [
    "**Step 4: Details of Independent Variables**"
   ]
  },
  {
   "cell_type": "code",
   "execution_count": 8,
   "metadata": {},
   "outputs": [
    {
     "name": "stdout",
     "output_type": "stream",
     "text": [
      "Shape of the data, excluding dependent variables (178, 13)\n",
      "<class 'pandas.core.frame.DataFrame'>\n",
      "RangeIndex: 178 entries, 0 to 177\n",
      "Data columns (total 13 columns):\n",
      "alcohol                         178 non-null float64\n",
      "malic_acid                      178 non-null float64\n",
      "ash                             178 non-null float64\n",
      "alcalinity_of_ash               178 non-null float64\n",
      "magnesium                       178 non-null float64\n",
      "total_phenols                   178 non-null float64\n",
      "flavanoids                      178 non-null float64\n",
      "nonflavanoid_phenols            178 non-null float64\n",
      "proanthocyanins                 178 non-null float64\n",
      "color_intensity                 178 non-null float64\n",
      "hue                             178 non-null float64\n",
      "od280/od315_of_diluted_wines    178 non-null float64\n",
      "proline                         178 non-null float64\n",
      "dtypes: float64(13)\n",
      "memory usage: 18.2 KB\n",
      "Name and type of independent Variables\n",
      ": None\n"
     ]
    }
   ],
   "source": [
    "print(\"Shape of the data, excluding dependent variables\", independentVariables.shape)\n",
    "print(\"Name and type of independent Variables\\n:\", independentVariables.info())"
   ]
  },
  {
   "cell_type": "markdown",
   "metadata": {},
   "source": [
    "**Step 5: Target Variable**"
   ]
  },
  {
   "cell_type": "code",
   "execution_count": 9,
   "metadata": {},
   "outputs": [
    {
     "name": "stdout",
     "output_type": "stream",
     "text": [
      "Classes of Dependent Variable ['class_0' 'class_1' 'class_2']\n"
     ]
    }
   ],
   "source": [
    "print(\"Classes of Dependent Variable\", winedataset.target_names)"
   ]
  },
  {
   "cell_type": "markdown",
   "metadata": {},
   "source": [
    "**Step 6: Data Frame having both variables**"
   ]
  },
  {
   "cell_type": "code",
   "execution_count": 11,
   "metadata": {},
   "outputs": [
    {
     "data": {
      "text/html": [
       "<div>\n",
       "<style scoped>\n",
       "    .dataframe tbody tr th:only-of-type {\n",
       "        vertical-align: middle;\n",
       "    }\n",
       "\n",
       "    .dataframe tbody tr th {\n",
       "        vertical-align: top;\n",
       "    }\n",
       "\n",
       "    .dataframe thead th {\n",
       "        text-align: right;\n",
       "    }\n",
       "</style>\n",
       "<table border=\"1\" class=\"dataframe\">\n",
       "  <thead>\n",
       "    <tr style=\"text-align: right;\">\n",
       "      <th></th>\n",
       "      <th>alcohol</th>\n",
       "      <th>malic_acid</th>\n",
       "      <th>ash</th>\n",
       "      <th>alcalinity_of_ash</th>\n",
       "      <th>magnesium</th>\n",
       "      <th>total_phenols</th>\n",
       "      <th>flavanoids</th>\n",
       "      <th>nonflavanoid_phenols</th>\n",
       "      <th>proanthocyanins</th>\n",
       "      <th>color_intensity</th>\n",
       "      <th>hue</th>\n",
       "      <th>od280/od315_of_diluted_wines</th>\n",
       "      <th>proline</th>\n",
       "      <th>class</th>\n",
       "    </tr>\n",
       "  </thead>\n",
       "  <tbody>\n",
       "    <tr>\n",
       "      <td>0</td>\n",
       "      <td>14.23</td>\n",
       "      <td>1.71</td>\n",
       "      <td>2.43</td>\n",
       "      <td>15.6</td>\n",
       "      <td>127.0</td>\n",
       "      <td>2.80</td>\n",
       "      <td>3.06</td>\n",
       "      <td>0.28</td>\n",
       "      <td>2.29</td>\n",
       "      <td>5.64</td>\n",
       "      <td>1.04</td>\n",
       "      <td>3.92</td>\n",
       "      <td>1065.0</td>\n",
       "      <td>class_0</td>\n",
       "    </tr>\n",
       "    <tr>\n",
       "      <td>1</td>\n",
       "      <td>13.20</td>\n",
       "      <td>1.78</td>\n",
       "      <td>2.14</td>\n",
       "      <td>11.2</td>\n",
       "      <td>100.0</td>\n",
       "      <td>2.65</td>\n",
       "      <td>2.76</td>\n",
       "      <td>0.26</td>\n",
       "      <td>1.28</td>\n",
       "      <td>4.38</td>\n",
       "      <td>1.05</td>\n",
       "      <td>3.40</td>\n",
       "      <td>1050.0</td>\n",
       "      <td>class_0</td>\n",
       "    </tr>\n",
       "    <tr>\n",
       "      <td>2</td>\n",
       "      <td>13.16</td>\n",
       "      <td>2.36</td>\n",
       "      <td>2.67</td>\n",
       "      <td>18.6</td>\n",
       "      <td>101.0</td>\n",
       "      <td>2.80</td>\n",
       "      <td>3.24</td>\n",
       "      <td>0.30</td>\n",
       "      <td>2.81</td>\n",
       "      <td>5.68</td>\n",
       "      <td>1.03</td>\n",
       "      <td>3.17</td>\n",
       "      <td>1185.0</td>\n",
       "      <td>class_0</td>\n",
       "    </tr>\n",
       "    <tr>\n",
       "      <td>3</td>\n",
       "      <td>14.37</td>\n",
       "      <td>1.95</td>\n",
       "      <td>2.50</td>\n",
       "      <td>16.8</td>\n",
       "      <td>113.0</td>\n",
       "      <td>3.85</td>\n",
       "      <td>3.49</td>\n",
       "      <td>0.24</td>\n",
       "      <td>2.18</td>\n",
       "      <td>7.80</td>\n",
       "      <td>0.86</td>\n",
       "      <td>3.45</td>\n",
       "      <td>1480.0</td>\n",
       "      <td>class_0</td>\n",
       "    </tr>\n",
       "    <tr>\n",
       "      <td>4</td>\n",
       "      <td>13.24</td>\n",
       "      <td>2.59</td>\n",
       "      <td>2.87</td>\n",
       "      <td>21.0</td>\n",
       "      <td>118.0</td>\n",
       "      <td>2.80</td>\n",
       "      <td>2.69</td>\n",
       "      <td>0.39</td>\n",
       "      <td>1.82</td>\n",
       "      <td>4.32</td>\n",
       "      <td>1.04</td>\n",
       "      <td>2.93</td>\n",
       "      <td>735.0</td>\n",
       "      <td>class_0</td>\n",
       "    </tr>\n",
       "    <tr>\n",
       "      <td>...</td>\n",
       "      <td>...</td>\n",
       "      <td>...</td>\n",
       "      <td>...</td>\n",
       "      <td>...</td>\n",
       "      <td>...</td>\n",
       "      <td>...</td>\n",
       "      <td>...</td>\n",
       "      <td>...</td>\n",
       "      <td>...</td>\n",
       "      <td>...</td>\n",
       "      <td>...</td>\n",
       "      <td>...</td>\n",
       "      <td>...</td>\n",
       "      <td>...</td>\n",
       "    </tr>\n",
       "    <tr>\n",
       "      <td>173</td>\n",
       "      <td>13.71</td>\n",
       "      <td>5.65</td>\n",
       "      <td>2.45</td>\n",
       "      <td>20.5</td>\n",
       "      <td>95.0</td>\n",
       "      <td>1.68</td>\n",
       "      <td>0.61</td>\n",
       "      <td>0.52</td>\n",
       "      <td>1.06</td>\n",
       "      <td>7.70</td>\n",
       "      <td>0.64</td>\n",
       "      <td>1.74</td>\n",
       "      <td>740.0</td>\n",
       "      <td>class_2</td>\n",
       "    </tr>\n",
       "    <tr>\n",
       "      <td>174</td>\n",
       "      <td>13.40</td>\n",
       "      <td>3.91</td>\n",
       "      <td>2.48</td>\n",
       "      <td>23.0</td>\n",
       "      <td>102.0</td>\n",
       "      <td>1.80</td>\n",
       "      <td>0.75</td>\n",
       "      <td>0.43</td>\n",
       "      <td>1.41</td>\n",
       "      <td>7.30</td>\n",
       "      <td>0.70</td>\n",
       "      <td>1.56</td>\n",
       "      <td>750.0</td>\n",
       "      <td>class_2</td>\n",
       "    </tr>\n",
       "    <tr>\n",
       "      <td>175</td>\n",
       "      <td>13.27</td>\n",
       "      <td>4.28</td>\n",
       "      <td>2.26</td>\n",
       "      <td>20.0</td>\n",
       "      <td>120.0</td>\n",
       "      <td>1.59</td>\n",
       "      <td>0.69</td>\n",
       "      <td>0.43</td>\n",
       "      <td>1.35</td>\n",
       "      <td>10.20</td>\n",
       "      <td>0.59</td>\n",
       "      <td>1.56</td>\n",
       "      <td>835.0</td>\n",
       "      <td>class_2</td>\n",
       "    </tr>\n",
       "    <tr>\n",
       "      <td>176</td>\n",
       "      <td>13.17</td>\n",
       "      <td>2.59</td>\n",
       "      <td>2.37</td>\n",
       "      <td>20.0</td>\n",
       "      <td>120.0</td>\n",
       "      <td>1.65</td>\n",
       "      <td>0.68</td>\n",
       "      <td>0.53</td>\n",
       "      <td>1.46</td>\n",
       "      <td>9.30</td>\n",
       "      <td>0.60</td>\n",
       "      <td>1.62</td>\n",
       "      <td>840.0</td>\n",
       "      <td>class_2</td>\n",
       "    </tr>\n",
       "    <tr>\n",
       "      <td>177</td>\n",
       "      <td>14.13</td>\n",
       "      <td>4.10</td>\n",
       "      <td>2.74</td>\n",
       "      <td>24.5</td>\n",
       "      <td>96.0</td>\n",
       "      <td>2.05</td>\n",
       "      <td>0.76</td>\n",
       "      <td>0.56</td>\n",
       "      <td>1.35</td>\n",
       "      <td>9.20</td>\n",
       "      <td>0.61</td>\n",
       "      <td>1.60</td>\n",
       "      <td>560.0</td>\n",
       "      <td>class_2</td>\n",
       "    </tr>\n",
       "  </tbody>\n",
       "</table>\n",
       "<p>178 rows × 14 columns</p>\n",
       "</div>"
      ],
      "text/plain": [
       "     alcohol  malic_acid   ash  alcalinity_of_ash  magnesium  total_phenols  \\\n",
       "0      14.23        1.71  2.43               15.6      127.0           2.80   \n",
       "1      13.20        1.78  2.14               11.2      100.0           2.65   \n",
       "2      13.16        2.36  2.67               18.6      101.0           2.80   \n",
       "3      14.37        1.95  2.50               16.8      113.0           3.85   \n",
       "4      13.24        2.59  2.87               21.0      118.0           2.80   \n",
       "..       ...         ...   ...                ...        ...            ...   \n",
       "173    13.71        5.65  2.45               20.5       95.0           1.68   \n",
       "174    13.40        3.91  2.48               23.0      102.0           1.80   \n",
       "175    13.27        4.28  2.26               20.0      120.0           1.59   \n",
       "176    13.17        2.59  2.37               20.0      120.0           1.65   \n",
       "177    14.13        4.10  2.74               24.5       96.0           2.05   \n",
       "\n",
       "     flavanoids  nonflavanoid_phenols  proanthocyanins  color_intensity   hue  \\\n",
       "0          3.06                  0.28             2.29             5.64  1.04   \n",
       "1          2.76                  0.26             1.28             4.38  1.05   \n",
       "2          3.24                  0.30             2.81             5.68  1.03   \n",
       "3          3.49                  0.24             2.18             7.80  0.86   \n",
       "4          2.69                  0.39             1.82             4.32  1.04   \n",
       "..          ...                   ...              ...              ...   ...   \n",
       "173        0.61                  0.52             1.06             7.70  0.64   \n",
       "174        0.75                  0.43             1.41             7.30  0.70   \n",
       "175        0.69                  0.43             1.35            10.20  0.59   \n",
       "176        0.68                  0.53             1.46             9.30  0.60   \n",
       "177        0.76                  0.56             1.35             9.20  0.61   \n",
       "\n",
       "     od280/od315_of_diluted_wines  proline    class  \n",
       "0                            3.92   1065.0  class_0  \n",
       "1                            3.40   1050.0  class_0  \n",
       "2                            3.17   1185.0  class_0  \n",
       "3                            3.45   1480.0  class_0  \n",
       "4                            2.93    735.0  class_0  \n",
       "..                            ...      ...      ...  \n",
       "173                          1.74    740.0  class_2  \n",
       "174                          1.56    750.0  class_2  \n",
       "175                          1.56    835.0  class_2  \n",
       "176                          1.62    840.0  class_2  \n",
       "177                          1.60    560.0  class_2  \n",
       "\n",
       "[178 rows x 14 columns]"
      ]
     },
     "execution_count": 11,
     "metadata": {},
     "output_type": "execute_result"
    }
   ],
   "source": [
    "wineDataFrame = independentVariables.join(pd.Series(dependentVariable, name=\"class\"))\n",
    "wineDataFrame"
   ]
  },
  {
   "cell_type": "markdown",
   "metadata": {},
   "source": [
    "**Step 7: Feature Vector for all classes**"
   ]
  },
  {
   "cell_type": "code",
   "execution_count": 19,
   "metadata": {},
   "outputs": [
    {
     "data": {
      "text/html": [
       "<div>\n",
       "<style scoped>\n",
       "    .dataframe tbody tr th:only-of-type {\n",
       "        vertical-align: middle;\n",
       "    }\n",
       "\n",
       "    .dataframe tbody tr th {\n",
       "        vertical-align: top;\n",
       "    }\n",
       "\n",
       "    .dataframe thead th {\n",
       "        text-align: right;\n",
       "    }\n",
       "</style>\n",
       "<table border=\"1\" class=\"dataframe\">\n",
       "  <thead>\n",
       "    <tr style=\"text-align: right;\">\n",
       "      <th></th>\n",
       "      <th>class_0</th>\n",
       "      <th>class_1</th>\n",
       "      <th>class_2</th>\n",
       "    </tr>\n",
       "  </thead>\n",
       "  <tbody>\n",
       "    <tr>\n",
       "      <td>alcohol</td>\n",
       "      <td>13.744746</td>\n",
       "      <td>12.278732</td>\n",
       "      <td>13.153750</td>\n",
       "    </tr>\n",
       "    <tr>\n",
       "      <td>malic_acid</td>\n",
       "      <td>2.010678</td>\n",
       "      <td>1.932676</td>\n",
       "      <td>3.333750</td>\n",
       "    </tr>\n",
       "    <tr>\n",
       "      <td>ash</td>\n",
       "      <td>2.455593</td>\n",
       "      <td>2.244789</td>\n",
       "      <td>2.437083</td>\n",
       "    </tr>\n",
       "    <tr>\n",
       "      <td>alcalinity_of_ash</td>\n",
       "      <td>17.037288</td>\n",
       "      <td>20.238028</td>\n",
       "      <td>21.416667</td>\n",
       "    </tr>\n",
       "    <tr>\n",
       "      <td>magnesium</td>\n",
       "      <td>106.338983</td>\n",
       "      <td>94.549296</td>\n",
       "      <td>99.312500</td>\n",
       "    </tr>\n",
       "    <tr>\n",
       "      <td>total_phenols</td>\n",
       "      <td>2.840169</td>\n",
       "      <td>2.258873</td>\n",
       "      <td>1.678750</td>\n",
       "    </tr>\n",
       "    <tr>\n",
       "      <td>flavanoids</td>\n",
       "      <td>2.982373</td>\n",
       "      <td>2.080845</td>\n",
       "      <td>0.781458</td>\n",
       "    </tr>\n",
       "    <tr>\n",
       "      <td>nonflavanoid_phenols</td>\n",
       "      <td>0.290000</td>\n",
       "      <td>0.363662</td>\n",
       "      <td>0.447500</td>\n",
       "    </tr>\n",
       "    <tr>\n",
       "      <td>proanthocyanins</td>\n",
       "      <td>1.899322</td>\n",
       "      <td>1.630282</td>\n",
       "      <td>1.153542</td>\n",
       "    </tr>\n",
       "    <tr>\n",
       "      <td>color_intensity</td>\n",
       "      <td>5.528305</td>\n",
       "      <td>3.086620</td>\n",
       "      <td>7.396250</td>\n",
       "    </tr>\n",
       "    <tr>\n",
       "      <td>hue</td>\n",
       "      <td>1.062034</td>\n",
       "      <td>1.056282</td>\n",
       "      <td>0.682708</td>\n",
       "    </tr>\n",
       "    <tr>\n",
       "      <td>od280/od315_of_diluted_wines</td>\n",
       "      <td>3.157797</td>\n",
       "      <td>2.785352</td>\n",
       "      <td>1.683542</td>\n",
       "    </tr>\n",
       "    <tr>\n",
       "      <td>proline</td>\n",
       "      <td>1115.711864</td>\n",
       "      <td>519.507042</td>\n",
       "      <td>629.895833</td>\n",
       "    </tr>\n",
       "  </tbody>\n",
       "</table>\n",
       "</div>"
      ],
      "text/plain": [
       "                                  class_0     class_1     class_2\n",
       "alcohol                         13.744746   12.278732   13.153750\n",
       "malic_acid                       2.010678    1.932676    3.333750\n",
       "ash                              2.455593    2.244789    2.437083\n",
       "alcalinity_of_ash               17.037288   20.238028   21.416667\n",
       "magnesium                      106.338983   94.549296   99.312500\n",
       "total_phenols                    2.840169    2.258873    1.678750\n",
       "flavanoids                       2.982373    2.080845    0.781458\n",
       "nonflavanoid_phenols             0.290000    0.363662    0.447500\n",
       "proanthocyanins                  1.899322    1.630282    1.153542\n",
       "color_intensity                  5.528305    3.086620    7.396250\n",
       "hue                              1.062034    1.056282    0.682708\n",
       "od280/od315_of_diluted_wines     3.157797    2.785352    1.683542\n",
       "proline                       1115.711864  519.507042  629.895833"
      ]
     },
     "execution_count": 19,
     "metadata": {},
     "output_type": "execute_result"
    }
   ],
   "source": [
    "between_class_feature_means = pd.DataFrame(columns=winedataset.target_names)\n",
    "for c, rows in wineDataFrame.groupby('class'):\n",
    "    between_class_feature_means[c] = rows.mean()\n",
    "between_class_feature_means"
   ]
  },
  {
   "cell_type": "markdown",
   "metadata": {},
   "source": [
    "**Step 8: Class Scatter Matrix**"
   ]
  },
  {
   "cell_type": "code",
   "execution_count": 25,
   "metadata": {},
   "outputs": [
    {
     "data": {
      "text/plain": [
       "array([[ 7.07948499e+01,  1.37229257e+01,  1.06684933e+01,\n",
       "        -1.31860426e+02,  5.52620156e+02,  2.12568615e+01,\n",
       "         3.00293312e+01, -2.61778351e+00,  8.30762344e+00,\n",
       "         1.38875865e+02, -2.49334780e+00,  8.25295347e+00,\n",
       "         2.69868967e+04],\n",
       "       [ 1.37229257e+01,  6.55780370e+01,  5.15564454e+00,\n",
       "         1.17928430e+02,  1.50619799e+00, -3.89429093e+01,\n",
       "        -7.95309567e+01,  5.42915083e+00, -2.79935518e+01,\n",
       "         1.59408872e+02, -1.79954555e+01, -5.99058382e+01,\n",
       "        -6.17091332e+03],\n",
       "       [ 1.06684933e+01,  5.15564454e+00,  1.75922271e+00,\n",
       "        -1.28292335e+01,  7.80946503e+01,  1.09001750e+00,\n",
       "         3.36713399e-01, -1.03155491e-01, -2.00866484e-01,\n",
       "         2.74298320e+01, -1.23513355e+00, -1.77465829e+00,\n",
       "         3.50726571e+03],\n",
       "       [-1.31860426e+02,  1.17928430e+02, -1.28292335e+01,\n",
       "         5.72833493e+02, -1.27015372e+03, -1.37801068e+02,\n",
       "        -2.50581989e+02,  1.84145559e+01, -8.29870886e+01,\n",
       "         4.34834234e+01, -3.52934937e+01, -1.55639047e+02,\n",
       "        -7.62681443e+04],\n",
       "       [ 5.52620156e+02,  1.50619799e+00,  7.80946503e+01,\n",
       "        -1.27015372e+03,  4.49100206e+03,  2.38215865e+02,\n",
       "         3.77678695e+02, -3.03994022e+01,  1.14541900e+02,\n",
       "         8.61660156e+02,  9.93296304e+00,  1.67665318e+02,\n",
       "         2.29797539e+05],\n",
       "       [ 2.12568615e+01, -3.89429093e+01,  1.09001750e+00,\n",
       "        -1.37801068e+02,  2.38215865e+02,  3.58567146e+01,\n",
       "         6.74345332e+01, -4.84923004e+00,  2.27564402e+01,\n",
       "        -4.89814827e+01,  1.12372963e+01,  4.45747036e+01,\n",
       "         1.59070799e+04],\n",
       "       [ 3.00293312e+01, -7.95309567e+01,  3.36713399e-01,\n",
       "        -2.50581989e+02,  3.77678695e+02,  6.74345332e+01,\n",
       "         1.28522390e+02, -9.16371427e+00,  4.36832868e+01,\n",
       "        -1.20821550e+02,  2.26986197e+01,  8.69365797e+01,\n",
       "         2.69147089e+04],\n",
       "       [-2.61778351e+00,  5.42915083e+00, -1.03155491e-01,\n",
       "         1.84145559e+01, -3.03994022e+01, -4.84923004e+00,\n",
       "        -9.16371427e+00,  6.56940315e-01, -3.10044839e+00,\n",
       "         7.36570138e+00, -1.56015008e+00, -6.10848963e+00,\n",
       "        -2.07373044e+03],\n",
       "       [ 8.30762344e+00, -2.79935518e+01, -2.00866484e-01,\n",
       "        -8.29870886e+01,  1.14541900e+02,  2.27564402e+01,\n",
       "         4.36832868e+01, -3.10044839e+00,  1.49039910e+01,\n",
       "        -4.60414313e+01,  7.94715278e+00,  2.99078276e+01,\n",
       "         8.53171104e+03],\n",
       "       [ 1.38875865e+02,  1.59408872e+02,  2.74298320e+01,\n",
       "         4.34834234e+01,  8.61660156e+02, -4.89814827e+01,\n",
       "        -1.20821550e+02,  7.36570138e+00, -4.60414313e+01,\n",
       "         5.51416002e+02, -4.17671854e+01, -1.13325428e+02,\n",
       "         2.89294497e+04],\n",
       "       [-2.49334780e+00, -1.79954555e+01, -1.23513355e+00,\n",
       "        -3.52934937e+01,  9.93296304e+00,  1.12372963e+01,\n",
       "         2.26986197e+01, -1.56015008e+00,  7.94715278e+00,\n",
       "        -4.17671854e+01,  4.96201983e+00,  1.68283682e+01,\n",
       "         2.22311156e+03],\n",
       "       [ 8.25295347e+00, -5.99058382e+01, -1.77465829e+00,\n",
       "        -1.55639047e+02,  1.67665318e+02,  4.45747036e+01,\n",
       "         8.69365797e+01, -6.10848963e+00,  2.99078276e+01,\n",
       "        -1.13325428e+02,  1.68283682e+01,  6.10870167e+01,\n",
       "         1.42921344e+04],\n",
       "       [ 2.69868967e+04, -6.17091332e+03,  3.50726571e+03,\n",
       "        -7.62681443e+04,  2.29797539e+05,  1.59070799e+04,\n",
       "         2.69147089e+04, -2.07373044e+03,  8.53171104e+03,\n",
       "         2.89294497e+04,  2.22311156e+03,  1.42921344e+04,\n",
       "         1.23536646e+07]])"
      ]
     },
     "execution_count": 25,
     "metadata": {},
     "output_type": "execute_result"
    }
   ],
   "source": [
    "within_class_scatter_matrix = np.zeros((13,13))\n",
    "for c, rows in wineDataFrame.groupby('class'):\n",
    "    rows = rows.drop(['class'], axis=1)\n",
    "    \n",
    "    s = np.zeros((13,13))\n",
    "for index, row in rows.iterrows():\n",
    "    x, mc = row.values.reshape(13,1), between_class_feature_means[c].values.reshape(13,1)\n",
    "    \n",
    "    s += (x - mc).dot((x - mc).T)\n",
    "    \n",
    "within_class_scatter_matrix += s\n",
    "\n",
    "feature_means = wineDataFrame.mean()\n",
    "between_class_scatter_matrix=np.zeros((13,13))\n",
    "for c in between_class_feature_means:\n",
    "    n = len(wineDataFrame.loc[wineDataFrame['class'] == c].index)\n",
    "    \n",
    "    mc, m = between_class_feature_means[c].values.reshape(13,1), feature_means.values.reshape(13,1)\n",
    "    between_class_scatter_matrix +=n * (mc-m).dot((mc-m).T)\n",
    "between_class_scatter_matrix"
   ]
  },
  {
   "cell_type": "markdown",
   "metadata": {},
   "source": [
    "**Step 9: Linear Discriminats value**"
   ]
  },
  {
   "cell_type": "code",
   "execution_count": 26,
   "metadata": {},
   "outputs": [],
   "source": [
    "eigen_values, eigen_vectors = np.linalg.eig(np.linalg.inv(within_class_scatter_matrix).dot(between_class_scatter_matrix))"
   ]
  },
  {
   "cell_type": "markdown",
   "metadata": {},
   "source": [
    "**Step 10: Sorting Eigen values from highest to lowest**\n",
    "    \n",
    "1. The eigenvectors with the highest eigenvalues carry the most information about the distribution of the data. \n",
    "2. Now, since we have got the eigenvalues and eigenvector, sort the eigenvalues from highest to lowest and select the first k     eigenvectors.\n",
    "\n",
    "3. In order to ensure that the eigenvalue maps to the same eigenvector after sorting, we place them in a temporary array."
   ]
  },
  {
   "cell_type": "code",
   "execution_count": 27,
   "metadata": {},
   "outputs": [
    {
     "name": "stdout",
     "output_type": "stream",
     "text": [
      "237.46123198302251\n",
      "46.98285938758684\n",
      "1.0071457092992053e-14\n",
      "9.257305248209307e-15\n",
      "9.257305248209307e-15\n",
      "8.388087322616956e-15\n",
      "8.388087322616956e-15\n",
      "7.439598232196409e-15\n",
      "7.105427357601002e-15\n",
      "5.5270433288224486e-15\n",
      "5.5270433288224486e-15\n",
      "1.5939319649034697e-15\n",
      "2.421231721682941e-16\n"
     ]
    }
   ],
   "source": [
    "pairs = [(np.abs(eigen_values[i]), eigen_vectors[:,i]) for i in range(len(eigen_values))]\n",
    "pairs = sorted(pairs, key=lambda x: x[0], reverse=True)\n",
    "for pair in pairs:\n",
    "    print(pair[0])"
   ]
  },
  {
   "cell_type": "markdown",
   "metadata": {},
   "source": [
    "**Step 11: Variance expressed as Percentage**"
   ]
  },
  {
   "cell_type": "code",
   "execution_count": 29,
   "metadata": {},
   "outputs": [
    {
     "name": "stdout",
     "output_type": "stream",
     "text": [
      "Explained Variance\n",
      "Eigenvector 0: 0.8348256799387275\n",
      "Eigenvector 1: 0.1651743200612724\n",
      "Eigenvector 2: 3.540751029301465e-17\n",
      "Eigenvector 3: 3.254525416085276e-17\n",
      "Eigenvector 4: 3.254525416085276e-17\n",
      "Eigenvector 5: 2.948940609804373e-17\n",
      "Eigenvector 6: 2.948940609804373e-17\n",
      "Eigenvector 7: 2.6154870000457026e-17\n",
      "Eigenvector 8: 2.498004906118145e-17\n",
      "Eigenvector 9: 1.9431035822154324e-17\n",
      "Eigenvector 10: 1.9431035822154324e-17\n",
      "Eigenvector 11: 5.603674019815359e-18\n",
      "Eigenvector 12: 8.512153337466437e-19\n"
     ]
    }
   ],
   "source": [
    "eigen_value_sums = sum(eigen_values)\n",
    "print('Explained Variance')\n",
    "for i, pair in enumerate(pairs):\n",
    "    print('Eigenvector {}: {}'.format(i, (pair[0]/eigen_value_sums).real))\n",
    "    "
   ]
  },
  {
   "cell_type": "markdown",
   "metadata": {},
   "source": [
    "**Step 12: New Feature Space**\n",
    "    (y=X.W)\n",
    "\n",
    "1. \"X\" is a n×d matrix with n samples and d dimensions \n",
    "2. “y” is a n×k matrix with n samples and k ( k<n) dimensions. \n",
    "3.  Y is composed of the LDA components (the new feature space)."
   ]
  },
  {
   "cell_type": "code",
   "execution_count": 31,
   "metadata": {},
   "outputs": [],
   "source": [
    "matrix_W = np.hstack((pairs[0][1].reshape(13,1), pairs[1][1].reshape(13,1))).real\n",
    "\n",
    "X_lda = np.array(independentVariables.dot(matrix_W))"
   ]
  },
  {
   "cell_type": "markdown",
   "metadata": {},
   "source": [
    "**Step 13: Encoding**"
   ]
  },
  {
   "cell_type": "code",
   "execution_count": 37,
   "metadata": {},
   "outputs": [],
   "source": [
    "le = LabelEncoder()\n",
    "y = le.fit_transform(wineDataFrame['class'])"
   ]
  },
  {
   "cell_type": "markdown",
   "metadata": {},
   "source": [
    "**Step 14: Plotting of data as a function of the two LDA Components**"
   ]
  },
  {
   "cell_type": "code",
   "execution_count": 39,
   "metadata": {},
   "outputs": [
    {
     "data": {
      "text/plain": [
       "<matplotlib.collections.PathCollection at 0x273ad7672c8>"
      ]
     },
     "execution_count": 39,
     "metadata": {},
     "output_type": "execute_result"
    },
    {
     "data": {
      "image/png": "[encoded data removed]",
      "text/plain": [
       "<Figure size 432x288 with 1 Axes>"
      ]
     },
     "metadata": {
      "needs_background": "light"
     },
     "output_type": "display_data"
    }
   ],
   "source": [
    "plt.xlabel('LD1')\n",
    "plt.ylabel('LD2')\n",
    "plt.scatter(\n",
    "    X_lda[:,0],\n",
    "    X_lda[:,1],\n",
    "    c=y,\n",
    "    cmap='rainbow',\n",
    "    alpha=0.7,\n",
    "    edgecolors='b')"
   ]
  },
  {
   "cell_type": "markdown",
   "metadata": {},
   "source": [
    "# Random Forest Classifier Model"
   ]
  },
  {
   "cell_type": "code",
   "execution_count": 45,
   "metadata": {},
   "outputs": [
    {
     "data": {
      "text/plain": [
       "array([[15,  0,  0],\n",
       "       [ 0, 17,  0],\n",
       "       [ 0,  0, 13]], dtype=int64)"
      ]
     },
     "execution_count": 45,
     "metadata": {},
     "output_type": "execute_result"
    }
   ],
   "source": [
    "X_train, X_test, y_train, y_test = train_test_split(X_lda, y, random_state=111)\n",
    "Model1 = RandomForestClassifier()\n",
    "Model1.fit(X_train, y_train)\n",
    "y_pred = Model1.predict(X_test)\n",
    "\n",
    "confusion_matrix(y_test, y_pred)"
   ]
  },
  {
   "cell_type": "markdown",
   "metadata": {},
   "source": [
    "**Using “independentVariables” itself instead of using LDA**"
   ]
  },
  {
   "cell_type": "code",
   "execution_count": 46,
   "metadata": {},
   "outputs": [
    {
     "data": {
      "text/plain": [
       "array([[14,  1,  0],\n",
       "       [ 1, 15,  1],\n",
       "       [ 0,  0, 13]], dtype=int64)"
      ]
     },
     "execution_count": 46,
     "metadata": {},
     "output_type": "execute_result"
    }
   ],
   "source": [
    "X_train, X_test, y_train, y_test = train_test_split(independentVariables, y, random_state=111)\n",
    "Model1 = RandomForestClassifier()\n",
    "Model1.fit(X_train, y_train)\n",
    "y_pred = Model1.predict(X_test)\n",
    "\n",
    "confusion_matrix(y_test, y_pred)"
   ]
  }
 ],
 "metadata": {
  "kernelspec": {
   "display_name": "Python 3",
   "language": "python",
   "name": "python3"
  },
  "language_info": {
   "codemirror_mode": {
    "name": "ipython",
    "version": 3
   },
   "file_extension": ".py",
   "mimetype": "text/x-python",
   "name": "python",
   "nbconvert_exporter": "python",
   "pygments_lexer": "ipython3",
   "version": "3.7.4"
  }
 },
 "nbformat": 4,
 "nbformat_minor": 2
}
