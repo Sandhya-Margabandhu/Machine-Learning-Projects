{
 "cells": [
  {
   "cell_type": "markdown",
   "metadata": {},
   "source": [
    "# ML LAB 11 - 14 / 10 / 2020 | Sandhya M (1947139)\n",
    "\n",
    "### Program Description:\n",
    "- Demonstrate multilayer perceptron using sklearn\n",
    "- Minimum two different \"Network Topologies\"\n",
    "- 3 Different Activation Functions\n",
    "- MLP for regression.\n",
    "\n",
    "## MultiLayer Perceptron\n",
    "- A multi-layered perceptron (MLP) is one of the most common neural network models used in the field of deep learning.\n",
    "- MLP consists of interconnected neurons transferring information to each other\n",
    "- Input Layer, Hidden Layer, Output Layer\n",
    "\n",
    "<img src = \"gif.gif\" height = \"550\" width =\"550\"><img src = \"MLP1.PNG\" height = \"450\" width =\"450\">\n",
    "\n",
    "## Activation Function\n",
    "The activation function is a mathematical “gate” in between the input feeding the current neuron and its output going to the next layer. It can be as simple as a step function that turns the neuron output on and off, depending on a rule or threshold. Or it can be a transformation that maps the input signals into output signals that are needed for the neural network to function.\n",
    "\n",
    "<img src = \"activation.PNG\" height = \"550\" width =\"550\">\n",
    "\n",
    "\n",
    "\n",
    "#### The Activation Functions can be basically divided into 2 types-\n",
    "##### 1. Linear Activation Function\n",
    "##### 2. Non-linear Activation Functions\n",
    "\n",
    "<img src = \"final.PNG\" height = \"600\" width =\"550\">\n",
    "\n",
    "**1) ReLU Function - Range: [ 0 to infinity)**\n",
    "\n",
    "* abbreviation of Rectified Linear Unit\n",
    "* mostly used to implement hidden layers of Neural Network\n",
    "* Equation: $A(x) = max(0, x)$, an output is generated if x is positive else it returns 0\n",
    "* non-linear in nature, since it can easily backpropagate the errors and have multiple layers of neurons being activated by the ReLU function.\n",
    "* Compared to tanh and sigmoid, ReLU is less computationally expensive as it involves simpler mathematical operations. Since, only a few neurons are activated the network becomes sparse thus making it more efficient and easier for computation.\n",
    "\n",
    "**2) Sigmoid Function - (0 to 1)**\n",
    "\n",
    "* a function that is plotted as 'S' shaped graph\n",
    "* Equation: $A=\\frac{1}{1+e^{-x}}$\n",
    "\n",
    "**3) TanH Function - (-1 to +1)**\n",
    "\n",
    "* also known as Tangent Hyperbolic Function\n",
    "* works better than sigmoid fuction\n",
    "* similar to sigmoid function and can be derived from each other\n",
    "* it is non-linear in nature\n",
    "* usually used in hidden layers of neural network.Since it's value lies between -1 and +1, the mean for the hidden layer becomes 0 or close to it, thus helping in centering the data. This allows easier learning for the next layer.\n",
    "\n",
    "### Applications of MLP : \n",
    "* Stock Analysis\n",
    "* Image Identification\n",
    "* Spam Detection\n",
    "* Election Voting Predictions\n",
    "\n",
    "### Dataset : \"House Prices Data\" for Classification from UCI Repository"
   ]
  },
  {
   "cell_type": "markdown",
   "metadata": {},
   "source": [
    "## Import Required Libraries"
   ]
  },
  {
   "cell_type": "code",
   "execution_count": 44,
   "metadata": {
    "colab": {
     "base_uri": "https://localhost:8080/",
     "height": 53
    },
    "id": "ottSXAg9jzFe",
    "outputId": "2daf46e9-d9cb-4939-a4e3-a67d93aa6ddd"
   },
   "outputs": [],
   "source": [
    "#import libraries\n",
    "import pandas as pd\n",
    "import numpy as np\n",
    "import seaborn as sns\n",
    "import pandas.util.testing as tm\n",
    "import matplotlib.pyplot as plt"
   ]
  },
  {
   "cell_type": "markdown",
   "metadata": {},
   "source": [
    "## Import dataset "
   ]
  },
  {
   "cell_type": "code",
   "execution_count": 2,
   "metadata": {
    "colab": {
     "base_uri": "https://localhost:8080/",
     "height": 35
    },
    "id": "SYBniTzDkIbf",
    "outputId": "b4970971-0b47-44c8-c75d-b6d834f0e28b"
   },
   "outputs": [
    {
     "data": {
      "text/plain": [
       "(1460, 11)"
      ]
     },
     "execution_count": 2,
     "metadata": {},
     "output_type": "execute_result"
    }
   ],
   "source": [
    "#Loading the dataset\n",
    "Dataset=pd.read_csv('housepricedata.csv')\n",
    "Dataset.shape"
   ]
  },
  {
   "cell_type": "code",
   "execution_count": 3,
   "metadata": {
    "colab": {
     "base_uri": "https://localhost:8080/",
     "height": 377
    },
    "id": "TxTfSPiBk1_s",
    "outputId": "3509f105-498e-47a9-eb88-e4087609e247",
    "scrolled": true
   },
   "outputs": [
    {
     "data": {
      "text/html": [
       "<div>\n",
       "<style scoped>\n",
       "    .dataframe tbody tr th:only-of-type {\n",
       "        vertical-align: middle;\n",
       "    }\n",
       "\n",
       "    .dataframe tbody tr th {\n",
       "        vertical-align: top;\n",
       "    }\n",
       "\n",
       "    .dataframe thead th {\n",
       "        text-align: right;\n",
       "    }\n",
       "</style>\n",
       "<table border=\"1\" class=\"dataframe\">\n",
       "  <thead>\n",
       "    <tr style=\"text-align: right;\">\n",
       "      <th></th>\n",
       "      <th>LotArea</th>\n",
       "      <th>OverallQual</th>\n",
       "      <th>OverallCond</th>\n",
       "      <th>TotalBsmtSF</th>\n",
       "      <th>FullBath</th>\n",
       "      <th>HalfBath</th>\n",
       "      <th>BedroomAbvGr</th>\n",
       "      <th>TotRmsAbvGrd</th>\n",
       "      <th>Fireplaces</th>\n",
       "      <th>GarageArea</th>\n",
       "      <th>AboveMedianPrice</th>\n",
       "    </tr>\n",
       "  </thead>\n",
       "  <tbody>\n",
       "    <tr>\n",
       "      <th>0</th>\n",
       "      <td>8450</td>\n",
       "      <td>7</td>\n",
       "      <td>5</td>\n",
       "      <td>856</td>\n",
       "      <td>2</td>\n",
       "      <td>1</td>\n",
       "      <td>3</td>\n",
       "      <td>8</td>\n",
       "      <td>0</td>\n",
       "      <td>548</td>\n",
       "      <td>1</td>\n",
       "    </tr>\n",
       "    <tr>\n",
       "      <th>1</th>\n",
       "      <td>9600</td>\n",
       "      <td>6</td>\n",
       "      <td>8</td>\n",
       "      <td>1262</td>\n",
       "      <td>2</td>\n",
       "      <td>0</td>\n",
       "      <td>3</td>\n",
       "      <td>6</td>\n",
       "      <td>1</td>\n",
       "      <td>460</td>\n",
       "      <td>1</td>\n",
       "    </tr>\n",
       "    <tr>\n",
       "      <th>2</th>\n",
       "      <td>11250</td>\n",
       "      <td>7</td>\n",
       "      <td>5</td>\n",
       "      <td>920</td>\n",
       "      <td>2</td>\n",
       "      <td>1</td>\n",
       "      <td>3</td>\n",
       "      <td>6</td>\n",
       "      <td>1</td>\n",
       "      <td>608</td>\n",
       "      <td>1</td>\n",
       "    </tr>\n",
       "    <tr>\n",
       "      <th>3</th>\n",
       "      <td>9550</td>\n",
       "      <td>7</td>\n",
       "      <td>5</td>\n",
       "      <td>756</td>\n",
       "      <td>1</td>\n",
       "      <td>0</td>\n",
       "      <td>3</td>\n",
       "      <td>7</td>\n",
       "      <td>1</td>\n",
       "      <td>642</td>\n",
       "      <td>0</td>\n",
       "    </tr>\n",
       "    <tr>\n",
       "      <th>4</th>\n",
       "      <td>14260</td>\n",
       "      <td>8</td>\n",
       "      <td>5</td>\n",
       "      <td>1145</td>\n",
       "      <td>2</td>\n",
       "      <td>1</td>\n",
       "      <td>4</td>\n",
       "      <td>9</td>\n",
       "      <td>1</td>\n",
       "      <td>836</td>\n",
       "      <td>1</td>\n",
       "    </tr>\n",
       "    <tr>\n",
       "      <th>5</th>\n",
       "      <td>14115</td>\n",
       "      <td>5</td>\n",
       "      <td>5</td>\n",
       "      <td>796</td>\n",
       "      <td>1</td>\n",
       "      <td>1</td>\n",
       "      <td>1</td>\n",
       "      <td>5</td>\n",
       "      <td>0</td>\n",
       "      <td>480</td>\n",
       "      <td>0</td>\n",
       "    </tr>\n",
       "    <tr>\n",
       "      <th>6</th>\n",
       "      <td>10084</td>\n",
       "      <td>8</td>\n",
       "      <td>5</td>\n",
       "      <td>1686</td>\n",
       "      <td>2</td>\n",
       "      <td>0</td>\n",
       "      <td>3</td>\n",
       "      <td>7</td>\n",
       "      <td>1</td>\n",
       "      <td>636</td>\n",
       "      <td>1</td>\n",
       "    </tr>\n",
       "    <tr>\n",
       "      <th>7</th>\n",
       "      <td>10382</td>\n",
       "      <td>7</td>\n",
       "      <td>6</td>\n",
       "      <td>1107</td>\n",
       "      <td>2</td>\n",
       "      <td>1</td>\n",
       "      <td>3</td>\n",
       "      <td>7</td>\n",
       "      <td>2</td>\n",
       "      <td>484</td>\n",
       "      <td>1</td>\n",
       "    </tr>\n",
       "    <tr>\n",
       "      <th>8</th>\n",
       "      <td>6120</td>\n",
       "      <td>7</td>\n",
       "      <td>5</td>\n",
       "      <td>952</td>\n",
       "      <td>2</td>\n",
       "      <td>0</td>\n",
       "      <td>2</td>\n",
       "      <td>8</td>\n",
       "      <td>2</td>\n",
       "      <td>468</td>\n",
       "      <td>0</td>\n",
       "    </tr>\n",
       "    <tr>\n",
       "      <th>9</th>\n",
       "      <td>7420</td>\n",
       "      <td>5</td>\n",
       "      <td>6</td>\n",
       "      <td>991</td>\n",
       "      <td>1</td>\n",
       "      <td>0</td>\n",
       "      <td>2</td>\n",
       "      <td>5</td>\n",
       "      <td>2</td>\n",
       "      <td>205</td>\n",
       "      <td>0</td>\n",
       "    </tr>\n",
       "  </tbody>\n",
       "</table>\n",
       "</div>"
      ],
      "text/plain": [
       "   LotArea  OverallQual  OverallCond  TotalBsmtSF  FullBath  HalfBath  \\\n",
       "0     8450            7            5          856         2         1   \n",
       "1     9600            6            8         1262         2         0   \n",
       "2    11250            7            5          920         2         1   \n",
       "3     9550            7            5          756         1         0   \n",
       "4    14260            8            5         1145         2         1   \n",
       "5    14115            5            5          796         1         1   \n",
       "6    10084            8            5         1686         2         0   \n",
       "7    10382            7            6         1107         2         1   \n",
       "8     6120            7            5          952         2         0   \n",
       "9     7420            5            6          991         1         0   \n",
       "\n",
       "   BedroomAbvGr  TotRmsAbvGrd  Fireplaces  GarageArea  AboveMedianPrice  \n",
       "0             3             8           0         548                 1  \n",
       "1             3             6           1         460                 1  \n",
       "2             3             6           1         608                 1  \n",
       "3             3             7           1         642                 0  \n",
       "4             4             9           1         836                 1  \n",
       "5             1             5           0         480                 0  \n",
       "6             3             7           1         636                 1  \n",
       "7             3             7           2         484                 1  \n",
       "8             2             8           2         468                 0  \n",
       "9             2             5           2         205                 0  "
      ]
     },
     "execution_count": 3,
     "metadata": {},
     "output_type": "execute_result"
    }
   ],
   "source": [
    "Dataset.head(10)"
   ]
  },
  {
   "cell_type": "code",
   "execution_count": 4,
   "metadata": {
    "colab": {
     "base_uri": "https://localhost:8080/",
     "height": 359
    },
    "id": "jyYXu62ckLRe",
    "outputId": "8bf031bb-c56c-4856-8eb4-036a5cc92e91"
   },
   "outputs": [
    {
     "name": "stdout",
     "output_type": "stream",
     "text": [
      "<class 'pandas.core.frame.DataFrame'>\n",
      "RangeIndex: 1460 entries, 0 to 1459\n",
      "Data columns (total 11 columns):\n",
      " #   Column            Non-Null Count  Dtype\n",
      "---  ------            --------------  -----\n",
      " 0   LotArea           1460 non-null   int64\n",
      " 1   OverallQual       1460 non-null   int64\n",
      " 2   OverallCond       1460 non-null   int64\n",
      " 3   TotalBsmtSF       1460 non-null   int64\n",
      " 4   FullBath          1460 non-null   int64\n",
      " 5   HalfBath          1460 non-null   int64\n",
      " 6   BedroomAbvGr      1460 non-null   int64\n",
      " 7   TotRmsAbvGrd      1460 non-null   int64\n",
      " 8   Fireplaces        1460 non-null   int64\n",
      " 9   GarageArea        1460 non-null   int64\n",
      " 10  AboveMedianPrice  1460 non-null   int64\n",
      "dtypes: int64(11)\n",
      "memory usage: 125.6 KB\n"
     ]
    }
   ],
   "source": [
    "Dataset.info()"
   ]
  },
  {
   "cell_type": "markdown",
   "metadata": {},
   "source": [
    "## Correlation Matrix of Dataset "
   ]
  },
  {
   "cell_type": "code",
   "execution_count": 5,
   "metadata": {
    "colab": {
     "base_uri": "https://localhost:8080/",
     "height": 1000
    },
    "id": "R-pPbQTNk5Cd",
    "outputId": "0be40035-f15a-44e5-8e8c-56785940baa9"
   },
   "outputs": [
    {
     "data": {
      "image/png": "[encoded data removed]",
      "text/plain": [
       "<Figure size 720x720 with 2 Axes>"
      ]
     },
     "metadata": {
      "needs_background": "light"
     },
     "output_type": "display_data"
    }
   ],
   "source": [
    "import seaborn as sns\n",
    "x=Dataset.iloc[:,[0,9]] #independent columns\n",
    "y=Dataset.iloc[:,[10]]   #target column i.e price range\n",
    "#get correlations of each features in dataset\n",
    "corrmat = Dataset.corr()\n",
    "top_corr_features = corrmat.index\n",
    "plt.figure(figsize=(10,10))\n",
    "#plot heat map\n",
    "g=sns.heatmap(Dataset[top_corr_features].corr(),annot=True,cmap=\"RdYlGn\")"
   ]
  },
  {
   "cell_type": "code",
   "execution_count": 6,
   "metadata": {
    "colab": {
     "base_uri": "https://localhost:8080/",
     "height": 35
    },
    "id": "A0WCO2rck9hx",
    "outputId": "614bc211-7491-4dc6-c4db-9466bf7f2941"
   },
   "outputs": [],
   "source": [
    "Dataset=Dataset.drop(['OverallCond'], axis=1)\n",
    "x=Dataset.iloc[:,0:8].values\n",
    "y=Dataset.iloc[:,[9]].values"
   ]
  },
  {
   "cell_type": "markdown",
   "metadata": {},
   "source": [
    "## Split data into separate training and test set - 60% - 40%"
   ]
  },
  {
   "cell_type": "code",
   "execution_count": 7,
   "metadata": {
    "colab": {
     "base_uri": "https://localhost:8080/",
     "height": 35
    },
    "id": "VAEI6o75lMx6",
    "outputId": "c06412d3-d1fc-46f7-8c74-1a07d3a52682"
   },
   "outputs": [],
   "source": [
    "from sklearn.model_selection import train_test_split\n",
    "\n",
    "X_train, X_test, y_train, y_test = train_test_split(x, y, test_size=0.4, random_state=0)"
   ]
  },
  {
   "cell_type": "markdown",
   "metadata": {},
   "source": [
    "## Feature Scaling"
   ]
  },
  {
   "cell_type": "code",
   "execution_count": 8,
   "metadata": {
    "colab": {
     "base_uri": "https://localhost:8080/",
     "height": 35
    },
    "id": "O8hX2sD7lg96",
    "outputId": "cba7411b-d152-4901-e7fc-07de9e43fafa"
   },
   "outputs": [],
   "source": [
    "# Feature Scaling\n",
    "from sklearn.preprocessing import StandardScaler\n",
    "\n",
    "sc = StandardScaler()\n",
    "X_train = sc.fit_transform(X_train)\n",
    "X_test = sc.transform(X_test)"
   ]
  },
  {
   "cell_type": "code",
   "execution_count": 9,
   "metadata": {
    "colab": {
     "base_uri": "https://localhost:8080/",
     "height": 487
    },
    "id": "2ODd8nBnW2ie",
    "outputId": "281870fb-0c64-4b4c-bb6c-c6ae9a9ec950"
   },
   "outputs": [
    {
     "name": "stdout",
     "output_type": "stream",
     "text": [
      "Training Classification Report\n",
      "              precision    recall  f1-score   support\n",
      "\n",
      "           0       0.91      0.92      0.92       432\n",
      "           1       0.92      0.91      0.92       444\n",
      "\n",
      "    accuracy                           0.92       876\n",
      "   macro avg       0.92      0.92      0.92       876\n",
      "weighted avg       0.92      0.92      0.92       876\n",
      "\n",
      "=======================================================\n",
      "Testing Classification Report\n",
      "              precision    recall  f1-score   support\n",
      "\n",
      "           0       0.92      0.90      0.91       300\n",
      "           1       0.89      0.92      0.91       284\n",
      "\n",
      "    accuracy                           0.91       584\n",
      "   macro avg       0.91      0.91      0.91       584\n",
      "weighted avg       0.91      0.91      0.91       584\n",
      "\n",
      "=======================================================\n",
      "Model training Accuracy Score 0.9166666666666666\n",
      "Model testing Accuracy Score 0.9075342465753424\n"
     ]
    }
   ],
   "source": [
    "from sklearn.neural_network import MLPClassifier\n",
    "from sklearn.metrics import classification_report, confusion_matrix, accuracy_score\n",
    "\n",
    "import warnings\n",
    "warnings.filterwarnings('ignore')\n",
    "\n",
    "mlp = MLPClassifier()\n",
    "mlp.fit(X_train,y_train)\n",
    "predict_train = mlp.predict(X_train)\n",
    "pred = mlp.predict(X_test)\n",
    "\n",
    "print(\"Training Classification Report\")\n",
    "print(classification_report(y_train,predict_train))\n",
    "print(\"=======================================================\")\n",
    "\n",
    "print(\"Testing Classification Report\")\n",
    "print(classification_report(y_test,pred))\n",
    "print(\"=======================================================\")\n",
    "\n",
    "print(\"Model training Accuracy Score\",accuracy_score(y_train, predict_train))\n",
    "\n",
    "train_acc=accuracy_score(y_train, predict_train)\n",
    "\n",
    "print(\"Model testing Accuracy Score\",accuracy_score(y_test, pred))\n",
    "test_acc=accuracy_score(y_test, pred)\n",
    "\n",
    "network1_default= pd.DataFrame([['Mlp classifier-default',train_acc , test_acc]],\n",
    "               columns = ['Network model', 'Training Accuracy', 'Testing Accuracy'])"
   ]
  },
  {
   "cell_type": "markdown",
   "metadata": {
    "id": "eUM4lNhjy31y"
   },
   "source": [
    "## 2 different Network Topologies\n",
    "\n",
    "-  which is closely related to the number of hidden layers and the number of hidden neurons.\n",
    "\n",
    "### 1. Hidden Layer = (8,8,8)\n",
    "### 2. Hidden Layer = (256,128,64,32)\n"
   ]
  },
  {
   "cell_type": "markdown",
   "metadata": {
    "id": "hJCinsvnzcp-"
   },
   "source": [
    "### Network 1 Topology (8,8,8) - Activation(ReLu)"
   ]
  },
  {
   "cell_type": "code",
   "execution_count": 10,
   "metadata": {
    "colab": {
     "base_uri": "https://localhost:8080/",
     "height": 487
    },
    "id": "bKjD7q0ynrAt",
    "outputId": "469bcd20-d3fd-4c38-b6e4-fe98c7b62aee"
   },
   "outputs": [
    {
     "name": "stdout",
     "output_type": "stream",
     "text": [
      "Training Classification Report\n",
      "              precision    recall  f1-score   support\n",
      "\n",
      "           0       0.92      0.94      0.93       432\n",
      "           1       0.94      0.92      0.93       444\n",
      "\n",
      "    accuracy                           0.93       876\n",
      "   macro avg       0.93      0.93      0.93       876\n",
      "weighted avg       0.93      0.93      0.93       876\n",
      "\n",
      "=======================================================\n",
      "Testing Classification Report\n",
      "              precision    recall  f1-score   support\n",
      "\n",
      "           0       0.91      0.89      0.90       300\n",
      "           1       0.89      0.91      0.90       284\n",
      "\n",
      "    accuracy                           0.90       584\n",
      "   macro avg       0.90      0.90      0.90       584\n",
      "weighted avg       0.90      0.90      0.90       584\n",
      "\n",
      "=======================================================\n",
      "Model training Accuracy Score 0.928082191780822\n",
      "Model testing Accuracy Score 0.9006849315068494\n"
     ]
    }
   ],
   "source": [
    "from sklearn.neural_network import MLPClassifier\n",
    "from sklearn.metrics import classification_report, confusion_matrix, accuracy_score\n",
    "import warnings\n",
    "warnings.filterwarnings('ignore')\n",
    "\n",
    "mlp = MLPClassifier(hidden_layer_sizes=(8,8,8), activation='relu', solver='adam', max_iter=500,random_state=42)\n",
    "mlp.fit(X_train,y_train)\n",
    "predict_train = mlp.predict(X_train)\n",
    "pred = mlp.predict(X_test)\n",
    "\n",
    "print(\"Training Classification Report\")\n",
    "print(classification_report(y_train,predict_train))\n",
    "print(\"=======================================================\")\n",
    "\n",
    "print(\"Testing Classification Report\")\n",
    "print(classification_report(y_test,pred))\n",
    "print(\"=======================================================\")\n",
    "\n",
    "print(\"Model training Accuracy Score\",accuracy_score(y_train, predict_train))\n",
    "train_acc=accuracy_score(y_train, predict_train)\n",
    "\n",
    "print(\"Model testing Accuracy Score\",accuracy_score(y_test, pred))\n",
    "test_acc=accuracy_score(y_test, pred)\n",
    "\n",
    "network1_relu= pd.DataFrame([['Mlp classifier-relu',train_acc , test_acc]],\n",
    "               columns = ['Network model', 'Training Accuracy', 'Testing Accuracy'])"
   ]
  },
  {
   "cell_type": "markdown",
   "metadata": {
    "id": "QGvmT3vMvK2q"
   },
   "source": [
    "Interpretation : From the above results we can see that our model performing well on unseen data with hidden layers (8,8,8) and as compared to training accuracy score we dont have large score gap."
   ]
  },
  {
   "cell_type": "markdown",
   "metadata": {
    "id": "RcdsQHYBzfOa"
   },
   "source": [
    "### Network 2 Topology (256,128,64,32) - Activation(ReLu)"
   ]
  },
  {
   "cell_type": "code",
   "execution_count": 11,
   "metadata": {
    "colab": {
     "base_uri": "https://localhost:8080/",
     "height": 451
    },
    "id": "2WDKprOkprBX",
    "outputId": "9a397845-a141-4f65-b2bc-a9037ed4bab0"
   },
   "outputs": [
    {
     "name": "stdout",
     "output_type": "stream",
     "text": [
      "Training Classification Report\n",
      "              precision    recall  f1-score   support\n",
      "\n",
      "           0       0.92      0.94      0.93       432\n",
      "           1       0.94      0.92      0.93       444\n",
      "\n",
      "    accuracy                           0.93       876\n",
      "   macro avg       0.93      0.93      0.93       876\n",
      "weighted avg       0.93      0.93      0.93       876\n",
      "\n",
      "=======================================================\n",
      "Testing Classification Report\n",
      "              precision    recall  f1-score   support\n",
      "\n",
      "           0       0.85      0.90      0.88       300\n",
      "           1       0.89      0.84      0.86       284\n",
      "\n",
      "    accuracy                           0.87       584\n",
      "   macro avg       0.87      0.87      0.87       584\n",
      "weighted avg       0.87      0.87      0.87       584\n",
      "\n",
      "=======================================================\n",
      "Traning Model Accuracy Score 0.928082191780822\n",
      "Testing Model Accuracy Score 0.8715753424657534\n"
     ]
    }
   ],
   "source": [
    "from sklearn.metrics import classification_report, confusion_matrix, accuracy_score\n",
    "import warnings\n",
    "warnings.filterwarnings('ignore')\n",
    "\n",
    "mlp1 = MLPClassifier(hidden_layer_sizes=(256,128,64,32), activation='relu', solver='adam', max_iter=500,random_state=42)\n",
    "mlp1.fit(X_train,y_train)\n",
    "predict_train = mlp.predict(X_train)\n",
    "pred1 = mlp1.predict(X_test)\n",
    "\n",
    "print(\"Training Classification Report\")\n",
    "print(classification_report(y_train,predict_train))\n",
    "print(\"=======================================================\")\n",
    "\n",
    "print(\"Testing Classification Report\")\n",
    "print(classification_report(y_test,pred1))\n",
    "print(\"=======================================================\")\n",
    "\n",
    "print(\"Traning Model Accuracy Score\",accuracy_score(y_train, predict_train ))\n",
    "print(\"Testing Model Accuracy Score\",accuracy_score(y_test, pred1))\n",
    "\n",
    "network2_relu= pd.DataFrame([['Mlp classifier-relu',accuracy_score(y_train, predict_train ) , accuracy_score(y_test, pred1)]],\n",
    "               columns = ['Network model', 'Training Accuracy', 'Testing Accuracy'])"
   ]
  },
  {
   "cell_type": "markdown",
   "metadata": {
    "id": "Eim1aDemx4-y"
   },
   "source": [
    "Interpretation : \n",
    "- From the above results that our model accuracy score gets degraded because as network goes deeper model complexity increases so they also learn outliers and noises and gets overfitting issue. \n",
    "- Here we can see that there is score gap (training - testing) large as compared to previous one."
   ]
  },
  {
   "cell_type": "markdown",
   "metadata": {
    "id": "a5SxvDN2zNZy"
   },
   "source": [
    "## 3 different Activation Functions"
   ]
  },
  {
   "cell_type": "markdown",
   "metadata": {
    "id": "CwwFRC7Hzygh"
   },
   "source": [
    "### Network 1 Topology - Tanh Function"
   ]
  },
  {
   "cell_type": "code",
   "execution_count": 12,
   "metadata": {
    "colab": {
     "base_uri": "https://localhost:8080/",
     "height": 487
    },
    "id": "4tWTK6bvrXs-",
    "outputId": "4b44c655-3ccd-4a09-b43e-defbec5d7b6d"
   },
   "outputs": [
    {
     "name": "stdout",
     "output_type": "stream",
     "text": [
      "Training Classification Report\n",
      "              precision    recall  f1-score   support\n",
      "\n",
      "           0       0.92      0.92      0.92       432\n",
      "           1       0.93      0.92      0.92       444\n",
      "\n",
      "    accuracy                           0.92       876\n",
      "   macro avg       0.92      0.92      0.92       876\n",
      "weighted avg       0.92      0.92      0.92       876\n",
      "\n",
      "=======================================================\n",
      "Testing Classification Report\n",
      "              precision    recall  f1-score   support\n",
      "\n",
      "           0       0.91      0.90      0.91       300\n",
      "           1       0.90      0.91      0.90       284\n",
      "\n",
      "    accuracy                           0.90       584\n",
      "   macro avg       0.90      0.90      0.90       584\n",
      "weighted avg       0.90      0.90      0.90       584\n",
      "\n",
      "=======================================================\n",
      "Model training Accuracy Score 0.9223744292237442\n",
      "Model testing Accuracy Score 0.9041095890410958\n"
     ]
    }
   ],
   "source": [
    "from sklearn.neural_network import MLPClassifier\n",
    "\n",
    "mlp = MLPClassifier(hidden_layer_sizes=(8,8,8), activation='tanh', solver='adam', max_iter=500,random_state=42)\n",
    "mlp.fit(X_train,y_train)\n",
    "predict_train = mlp.predict(X_train)\n",
    "pred = mlp.predict(X_test)\n",
    "\n",
    "from sklearn.metrics import classification_report, confusion_matrix, accuracy_score\n",
    "\n",
    "print(\"Training Classification Report\")\n",
    "print(classification_report(y_train,predict_train))\n",
    "print(\"=======================================================\")\n",
    "\n",
    "print(\"Testing Classification Report\")\n",
    "print(classification_report(y_test,pred))\n",
    "print(\"=======================================================\")\n",
    "\n",
    "\n",
    "print(\"Model training Accuracy Score\",accuracy_score(y_train, predict_train))\n",
    "print(\"Model testing Accuracy Score\",accuracy_score(y_test, pred))\n",
    "network1_tanh= pd.DataFrame([['Mlp classifier-tanh',accuracy_score(y_train, predict_train ) , accuracy_score(y_test, pred)]],\n",
    "               columns = ['Network model', 'Training Accuracy', 'Testing Accuracy'])\n",
    "               "
   ]
  },
  {
   "cell_type": "markdown",
   "metadata": {
    "id": "-5HGCC380vKi"
   },
   "source": [
    "### Network 1 Topology - Logistic Function"
   ]
  },
  {
   "cell_type": "code",
   "execution_count": 13,
   "metadata": {
    "colab": {
     "base_uri": "https://localhost:8080/",
     "height": 451
    },
    "id": "UyHfzApdz5dk",
    "outputId": "5deeccbc-4a34-4bb0-b19a-df9568ef2c65"
   },
   "outputs": [
    {
     "name": "stdout",
     "output_type": "stream",
     "text": [
      "Training Classification Report\n",
      "              precision    recall  f1-score   support\n",
      "\n",
      "           0       0.90      0.89      0.89       432\n",
      "           1       0.89      0.90      0.90       444\n",
      "\n",
      "    accuracy                           0.90       876\n",
      "   macro avg       0.90      0.90      0.90       876\n",
      "weighted avg       0.90      0.90      0.90       876\n",
      "\n",
      "=======================================================\n",
      "Testing Classification Report\n",
      "              precision    recall  f1-score   support\n",
      "\n",
      "           0       0.91      0.89      0.90       300\n",
      "           1       0.89      0.90      0.89       284\n",
      "\n",
      "    accuracy                           0.90       584\n",
      "   macro avg       0.90      0.90      0.90       584\n",
      "weighted avg       0.90      0.90      0.90       584\n",
      "\n",
      "=======================================================\n",
      "Model training Accuracy Score 0.8961187214611872\n",
      "Model testing Accuracy Score 0.8955479452054794\n"
     ]
    }
   ],
   "source": [
    "from sklearn.neural_network import MLPClassifier\n",
    "\n",
    "mlp = MLPClassifier(hidden_layer_sizes=(8,8,8), activation='logistic', solver='adam', max_iter=500,random_state=42)\n",
    "mlp.fit(X_train,y_train)\n",
    "predict_train = mlp.predict(X_train)\n",
    "pred = mlp.predict(X_test)\n",
    "\n",
    "from sklearn.metrics import classification_report, confusion_matrix, accuracy_score\n",
    "\n",
    "print(\"Training Classification Report\")\n",
    "print(classification_report(y_train,predict_train))\n",
    "print(\"=======================================================\")\n",
    "\n",
    "print(\"Testing Classification Report\")\n",
    "print(classification_report(y_test,pred))\n",
    "print(\"=======================================================\")\n",
    "\n",
    "print(\"Model training Accuracy Score\",accuracy_score(y_train, predict_train))\n",
    "print(\"Model testing Accuracy Score\",accuracy_score(y_test, pred))\n",
    "network1_logistic= pd.DataFrame([['Mlp classifier-logistic',accuracy_score(y_train, predict_train ) , accuracy_score(y_test, pred)]],\n",
    "               columns = ['Network model', 'Training Accuracy', 'Testing Accuracy'])"
   ]
  },
  {
   "cell_type": "markdown",
   "metadata": {
    "id": "wk62ESfo0qaP"
   },
   "source": [
    "### Network 2 Topology - Tanh Function"
   ]
  },
  {
   "cell_type": "code",
   "execution_count": 14,
   "metadata": {
    "colab": {
     "base_uri": "https://localhost:8080/",
     "height": 451
    },
    "id": "tBTpvj1f0dM3",
    "outputId": "288078ec-3626-48aa-c2cb-c8c8a5b304ea"
   },
   "outputs": [
    {
     "name": "stdout",
     "output_type": "stream",
     "text": [
      "Training Classification Report\n",
      "              precision    recall  f1-score   support\n",
      "\n",
      "           0       0.90      0.89      0.89       432\n",
      "           1       0.89      0.90      0.90       444\n",
      "\n",
      "    accuracy                           0.90       876\n",
      "   macro avg       0.90      0.90      0.90       876\n",
      "weighted avg       0.90      0.90      0.90       876\n",
      "\n",
      "=======================================================\n",
      "Testing Classification Report\n",
      "              precision    recall  f1-score   support\n",
      "\n",
      "           0       0.87      0.91      0.89       300\n",
      "           1       0.90      0.86      0.88       284\n",
      "\n",
      "    accuracy                           0.89       584\n",
      "   macro avg       0.89      0.88      0.89       584\n",
      "weighted avg       0.89      0.89      0.89       584\n",
      "\n",
      "=======================================================\n",
      "Traning Model Accuracy Score 0.8961187214611872\n",
      "Testing Model Accuracy Score 0.8852739726027398\n"
     ]
    }
   ],
   "source": [
    "mlp1 = MLPClassifier(hidden_layer_sizes=(256,128,64,32), activation='tanh', solver='adam', max_iter=500,random_state=42)\n",
    "mlp1.fit(X_train,y_train)\n",
    "predict_train = mlp.predict(X_train)\n",
    "pred1 = mlp1.predict(X_test)\n",
    "\n",
    "from sklearn.metrics import classification_report, confusion_matrix, accuracy_score\n",
    "print(\"Training Classification Report\")\n",
    "print(classification_report(y_train,predict_train))\n",
    "print(\"=======================================================\")\n",
    "\n",
    "print(\"Testing Classification Report\")\n",
    "print(classification_report(y_test,pred1))\n",
    "print(\"=======================================================\")\n",
    "\n",
    "print(\"Traning Model Accuracy Score\",accuracy_score(y_train, predict_train ))\n",
    "print(\"Testing Model Accuracy Score\",accuracy_score(y_test, pred1))\n",
    "\n",
    "network2_tanh= pd.DataFrame([['Mlp classifier-tanh',accuracy_score(y_train, predict_train ) , accuracy_score(y_test, pred1)]],\n",
    "               columns = ['Network model', 'Training Accuracy', 'Testing Accuracy'])"
   ]
  },
  {
   "cell_type": "markdown",
   "metadata": {
    "id": "XOGn759B1EKp"
   },
   "source": [
    "### Network 2 Topology - Logistic Function"
   ]
  },
  {
   "cell_type": "code",
   "execution_count": 15,
   "metadata": {
    "colab": {
     "base_uri": "https://localhost:8080/",
     "height": 451
    },
    "id": "j6r1xwTU09rn",
    "outputId": "c89dd2a8-da43-413a-d9e2-e3cd5930cde0"
   },
   "outputs": [
    {
     "name": "stdout",
     "output_type": "stream",
     "text": [
      "Training Classification Report\n",
      "              precision    recall  f1-score   support\n",
      "\n",
      "           0       0.90      0.89      0.89       432\n",
      "           1       0.89      0.90      0.90       444\n",
      "\n",
      "    accuracy                           0.90       876\n",
      "   macro avg       0.90      0.90      0.90       876\n",
      "weighted avg       0.90      0.90      0.90       876\n",
      "\n",
      "=======================================================\n",
      "Testing Classification Report\n",
      "              precision    recall  f1-score   support\n",
      "\n",
      "           0       0.90      0.91      0.91       300\n",
      "           1       0.91      0.89      0.90       284\n",
      "\n",
      "    accuracy                           0.90       584\n",
      "   macro avg       0.90      0.90      0.90       584\n",
      "weighted avg       0.90      0.90      0.90       584\n",
      "\n",
      "=======================================================\n",
      "Traning Model Accuracy Score 0.8961187214611872\n",
      "Testing Model Accuracy Score 0.9041095890410958\n"
     ]
    }
   ],
   "source": [
    "mlp1 = MLPClassifier(hidden_layer_sizes=(256,128,64,32), activation='logistic', solver='adam', max_iter=500,random_state=42)\n",
    "mlp1.fit(X_train,y_train)\n",
    "predict_train = mlp.predict(X_train)\n",
    "pred1 = mlp1.predict(X_test)\n",
    "\n",
    "from sklearn.metrics import classification_report, confusion_matrix, accuracy_score\n",
    "print(\"Training Classification Report\")\n",
    "print(classification_report(y_train,predict_train))\n",
    "print(\"=======================================================\")\n",
    "\n",
    "print(\"Testing Classification Report\")\n",
    "print(classification_report(y_test,pred1))\n",
    "print(\"=======================================================\")\n",
    "\n",
    "print(\"Traning Model Accuracy Score\",accuracy_score(y_train, predict_train ))\n",
    "print(\"Testing Model Accuracy Score\",accuracy_score(y_test, pred1))\n",
    "network2_logistic= pd.DataFrame([['Mlp classifier-logistic',accuracy_score(y_train, predict_train ) , accuracy_score(y_test, pred1)]],\n",
    "               columns = ['Network model', 'Training Accuracy', 'Testing Accuracy'])"
   ]
  },
  {
   "cell_type": "markdown",
   "metadata": {
    "id": "nMtutyDGXGrN"
   },
   "source": [
    "## Results of Network 1 Topology"
   ]
  },
  {
   "cell_type": "code",
   "execution_count": 16,
   "metadata": {
    "colab": {
     "base_uri": "https://localhost:8080/",
     "height": 191
    },
    "id": "xUCwkrVeXE_Z",
    "outputId": "111ebee2-eed4-4719-a944-10208cb8665b"
   },
   "outputs": [
    {
     "data": {
      "text/html": [
       "<div>\n",
       "<style scoped>\n",
       "    .dataframe tbody tr th:only-of-type {\n",
       "        vertical-align: middle;\n",
       "    }\n",
       "\n",
       "    .dataframe tbody tr th {\n",
       "        vertical-align: top;\n",
       "    }\n",
       "\n",
       "    .dataframe thead th {\n",
       "        text-align: right;\n",
       "    }\n",
       "</style>\n",
       "<table border=\"1\" class=\"dataframe\">\n",
       "  <thead>\n",
       "    <tr style=\"text-align: right;\">\n",
       "      <th></th>\n",
       "      <th>Network model</th>\n",
       "      <th>Training Accuracy</th>\n",
       "      <th>Testing Accuracy</th>\n",
       "    </tr>\n",
       "  </thead>\n",
       "  <tbody>\n",
       "    <tr>\n",
       "      <th>0</th>\n",
       "      <td>Mlp classifier-default</td>\n",
       "      <td>0.916667</td>\n",
       "      <td>0.907534</td>\n",
       "    </tr>\n",
       "    <tr>\n",
       "      <th>0</th>\n",
       "      <td>Mlp classifier-relu</td>\n",
       "      <td>0.928082</td>\n",
       "      <td>0.900685</td>\n",
       "    </tr>\n",
       "    <tr>\n",
       "      <th>0</th>\n",
       "      <td>Mlp classifier-tanh</td>\n",
       "      <td>0.922374</td>\n",
       "      <td>0.904110</td>\n",
       "    </tr>\n",
       "    <tr>\n",
       "      <th>0</th>\n",
       "      <td>Mlp classifier-logistic</td>\n",
       "      <td>0.896119</td>\n",
       "      <td>0.895548</td>\n",
       "    </tr>\n",
       "  </tbody>\n",
       "</table>\n",
       "</div>"
      ],
      "text/plain": [
       "             Network model  Training Accuracy  Testing Accuracy\n",
       "0   Mlp classifier-default           0.916667          0.907534\n",
       "0      Mlp classifier-relu           0.928082          0.900685\n",
       "0      Mlp classifier-tanh           0.922374          0.904110\n",
       "0  Mlp classifier-logistic           0.896119          0.895548"
      ]
     },
     "execution_count": 16,
     "metadata": {},
     "output_type": "execute_result"
    }
   ],
   "source": [
    "new_result=network1_default.append([network1_relu,network1_tanh,network1_logistic])\n",
    "new_result"
   ]
  },
  {
   "cell_type": "code",
   "execution_count": 17,
   "metadata": {
    "colab": {
     "base_uri": "https://localhost:8080/",
     "height": 464
    },
    "id": "bcgWKOdFfFY7",
    "outputId": "406e3b3b-1c1b-49a9-efac-7d792c4bc65a"
   },
   "outputs": [
    {
     "data": {
      "text/plain": [
       "<AxesSubplot:xlabel='Network model'>"
      ]
     },
     "execution_count": 17,
     "metadata": {},
     "output_type": "execute_result"
    },
    {
     "data": {
      "image/png": "[encoded data removed]",
      "text/plain": [
       "<Figure size 720x360 with 1 Axes>"
      ]
     },
     "metadata": {
      "needs_background": "light"
     },
     "output_type": "display_data"
    }
   ],
   "source": [
    "new_result.plot(x='Network model', y=['Training Accuracy','Testing Accuracy'] ,figsize=(10,5),kind='bar'  )"
   ]
  },
  {
   "cell_type": "markdown",
   "metadata": {
    "id": "w5_EuWE3XxNg"
   },
   "source": [
    "## Results of Network 2 Topology"
   ]
  },
  {
   "cell_type": "code",
   "execution_count": 18,
   "metadata": {
    "colab": {
     "base_uri": "https://localhost:8080/",
     "height": 191
    },
    "id": "xrQ-ZQc3X03c",
    "outputId": "9fd9abd7-ff60-4aa9-f327-5304faef164e"
   },
   "outputs": [
    {
     "data": {
      "text/html": [
       "<div>\n",
       "<style scoped>\n",
       "    .dataframe tbody tr th:only-of-type {\n",
       "        vertical-align: middle;\n",
       "    }\n",
       "\n",
       "    .dataframe tbody tr th {\n",
       "        vertical-align: top;\n",
       "    }\n",
       "\n",
       "    .dataframe thead th {\n",
       "        text-align: right;\n",
       "    }\n",
       "</style>\n",
       "<table border=\"1\" class=\"dataframe\">\n",
       "  <thead>\n",
       "    <tr style=\"text-align: right;\">\n",
       "      <th></th>\n",
       "      <th>Network model</th>\n",
       "      <th>Training Accuracy</th>\n",
       "      <th>Testing Accuracy</th>\n",
       "    </tr>\n",
       "  </thead>\n",
       "  <tbody>\n",
       "    <tr>\n",
       "      <th>0</th>\n",
       "      <td>Mlp classifier-default</td>\n",
       "      <td>0.916667</td>\n",
       "      <td>0.907534</td>\n",
       "    </tr>\n",
       "    <tr>\n",
       "      <th>0</th>\n",
       "      <td>Mlp classifier-relu</td>\n",
       "      <td>0.928082</td>\n",
       "      <td>0.871575</td>\n",
       "    </tr>\n",
       "    <tr>\n",
       "      <th>0</th>\n",
       "      <td>Mlp classifier-tanh</td>\n",
       "      <td>0.896119</td>\n",
       "      <td>0.885274</td>\n",
       "    </tr>\n",
       "    <tr>\n",
       "      <th>0</th>\n",
       "      <td>Mlp classifier-logistic</td>\n",
       "      <td>0.896119</td>\n",
       "      <td>0.904110</td>\n",
       "    </tr>\n",
       "  </tbody>\n",
       "</table>\n",
       "</div>"
      ],
      "text/plain": [
       "             Network model  Training Accuracy  Testing Accuracy\n",
       "0   Mlp classifier-default           0.916667          0.907534\n",
       "0      Mlp classifier-relu           0.928082          0.871575\n",
       "0      Mlp classifier-tanh           0.896119          0.885274\n",
       "0  Mlp classifier-logistic           0.896119          0.904110"
      ]
     },
     "execution_count": 18,
     "metadata": {},
     "output_type": "execute_result"
    }
   ],
   "source": [
    "new_result1=network1_default.append([network2_relu,network2_tanh,network2_logistic])\n",
    "new_result1"
   ]
  },
  {
   "cell_type": "code",
   "execution_count": 19,
   "metadata": {
    "colab": {
     "base_uri": "https://localhost:8080/",
     "height": 464
    },
    "id": "0BXR5CcOgjvy",
    "outputId": "3c4c7706-f5b0-4114-b8e6-53802b35afed"
   },
   "outputs": [
    {
     "data": {
      "text/plain": [
       "<AxesSubplot:xlabel='Network model'>"
      ]
     },
     "execution_count": 19,
     "metadata": {},
     "output_type": "execute_result"
    },
    {
     "data": {
      "image/png": "[encoded data removed]",
      "text/plain": [
       "<Figure size 720x360 with 1 Axes>"
      ]
     },
     "metadata": {
      "needs_background": "light"
     },
     "output_type": "display_data"
    }
   ],
   "source": [
    "new_result1.plot(x='Network model', y=['Training Accuracy','Testing Accuracy'] ,figsize=(10,5),kind='bar'  )"
   ]
  },
  {
   "cell_type": "markdown",
   "metadata": {
    "id": "wB2vyKibhOYo"
   },
   "source": [
    "## MLP for Regression - using California Housing Dataset"
   ]
  },
  {
   "cell_type": "markdown",
   "metadata": {},
   "source": [
    "## Import Libraries and Dataset"
   ]
  },
  {
   "cell_type": "code",
   "execution_count": 31,
   "metadata": {
    "colab": {
     "base_uri": "https://localhost:8080/",
     "height": 35
    },
    "id": "aNwWyt041IN-",
    "outputId": "38f64eb6-09f5-4911-d589-a3133e2c9470"
   },
   "outputs": [],
   "source": [
    "from sklearn.datasets import fetch_california_housing\n",
    "from sklearn.preprocessing import StandardScaler\n",
    "from sklearn.metrics import r2_score\n",
    "\n",
    "from sklearn.neural_network import MLPRegressor"
   ]
  },
  {
   "cell_type": "code",
   "execution_count": 32,
   "metadata": {
    "colab": {
     "base_uri": "https://localhost:8080/",
     "height": 53
    },
    "id": "_w5Esp6026H2",
    "outputId": "40a078f5-40bc-45db-9596-7d0cac6d7b8d"
   },
   "outputs": [],
   "source": [
    "cal_housing = fetch_california_housing()"
   ]
  },
  {
   "cell_type": "code",
   "execution_count": 33,
   "metadata": {
    "colab": {
     "base_uri": "https://localhost:8080/",
     "height": 35
    },
    "id": "kIjYI_n83GU6",
    "outputId": "bdd1845f-a546-4565-cc9d-6be547b5df07"
   },
   "outputs": [],
   "source": [
    "df1=pd.DataFrame(cal_housing.data,columns=cal_housing.feature_names)\n",
    "df = pd.DataFrame(data=cal_housing.target, columns=[\"target\"])\n",
    "dataset2=pd.concat([df1,df], axis=1)"
   ]
  },
  {
   "cell_type": "code",
   "execution_count": 34,
   "metadata": {},
   "outputs": [
    {
     "data": {
      "text/plain": [
       "(20640, 9)"
      ]
     },
     "execution_count": 34,
     "metadata": {},
     "output_type": "execute_result"
    }
   ],
   "source": [
    "dataset2.shape"
   ]
  },
  {
   "cell_type": "code",
   "execution_count": 35,
   "metadata": {
    "colab": {
     "base_uri": "https://localhost:8080/",
     "height": 222
    },
    "id": "_p_F2_pq7ROJ",
    "outputId": "82989cea-80ab-47ce-901c-9f99b6acd24a"
   },
   "outputs": [
    {
     "data": {
      "text/html": [
       "<div>\n",
       "<style scoped>\n",
       "    .dataframe tbody tr th:only-of-type {\n",
       "        vertical-align: middle;\n",
       "    }\n",
       "\n",
       "    .dataframe tbody tr th {\n",
       "        vertical-align: top;\n",
       "    }\n",
       "\n",
       "    .dataframe thead th {\n",
       "        text-align: right;\n",
       "    }\n",
       "</style>\n",
       "<table border=\"1\" class=\"dataframe\">\n",
       "  <thead>\n",
       "    <tr style=\"text-align: right;\">\n",
       "      <th></th>\n",
       "      <th>MedInc</th>\n",
       "      <th>HouseAge</th>\n",
       "      <th>AveRooms</th>\n",
       "      <th>AveBedrms</th>\n",
       "      <th>Population</th>\n",
       "      <th>AveOccup</th>\n",
       "      <th>Latitude</th>\n",
       "      <th>Longitude</th>\n",
       "      <th>target</th>\n",
       "    </tr>\n",
       "  </thead>\n",
       "  <tbody>\n",
       "    <tr>\n",
       "      <th>0</th>\n",
       "      <td>8.3252</td>\n",
       "      <td>41.0</td>\n",
       "      <td>6.984127</td>\n",
       "      <td>1.023810</td>\n",
       "      <td>322.0</td>\n",
       "      <td>2.555556</td>\n",
       "      <td>37.88</td>\n",
       "      <td>-122.23</td>\n",
       "      <td>4.526</td>\n",
       "    </tr>\n",
       "    <tr>\n",
       "      <th>1</th>\n",
       "      <td>8.3014</td>\n",
       "      <td>21.0</td>\n",
       "      <td>6.238137</td>\n",
       "      <td>0.971880</td>\n",
       "      <td>2401.0</td>\n",
       "      <td>2.109842</td>\n",
       "      <td>37.86</td>\n",
       "      <td>-122.22</td>\n",
       "      <td>3.585</td>\n",
       "    </tr>\n",
       "    <tr>\n",
       "      <th>2</th>\n",
       "      <td>7.2574</td>\n",
       "      <td>52.0</td>\n",
       "      <td>8.288136</td>\n",
       "      <td>1.073446</td>\n",
       "      <td>496.0</td>\n",
       "      <td>2.802260</td>\n",
       "      <td>37.85</td>\n",
       "      <td>-122.24</td>\n",
       "      <td>3.521</td>\n",
       "    </tr>\n",
       "    <tr>\n",
       "      <th>3</th>\n",
       "      <td>5.6431</td>\n",
       "      <td>52.0</td>\n",
       "      <td>5.817352</td>\n",
       "      <td>1.073059</td>\n",
       "      <td>558.0</td>\n",
       "      <td>2.547945</td>\n",
       "      <td>37.85</td>\n",
       "      <td>-122.25</td>\n",
       "      <td>3.413</td>\n",
       "    </tr>\n",
       "    <tr>\n",
       "      <th>4</th>\n",
       "      <td>3.8462</td>\n",
       "      <td>52.0</td>\n",
       "      <td>6.281853</td>\n",
       "      <td>1.081081</td>\n",
       "      <td>565.0</td>\n",
       "      <td>2.181467</td>\n",
       "      <td>37.85</td>\n",
       "      <td>-122.25</td>\n",
       "      <td>3.422</td>\n",
       "    </tr>\n",
       "  </tbody>\n",
       "</table>\n",
       "</div>"
      ],
      "text/plain": [
       "   MedInc  HouseAge  AveRooms  AveBedrms  Population  AveOccup  Latitude  \\\n",
       "0  8.3252      41.0  6.984127   1.023810       322.0  2.555556     37.88   \n",
       "1  8.3014      21.0  6.238137   0.971880      2401.0  2.109842     37.86   \n",
       "2  7.2574      52.0  8.288136   1.073446       496.0  2.802260     37.85   \n",
       "3  5.6431      52.0  5.817352   1.073059       558.0  2.547945     37.85   \n",
       "4  3.8462      52.0  6.281853   1.081081       565.0  2.181467     37.85   \n",
       "\n",
       "   Longitude  target  \n",
       "0    -122.23   4.526  \n",
       "1    -122.22   3.585  \n",
       "2    -122.24   3.521  \n",
       "3    -122.25   3.413  \n",
       "4    -122.25   3.422  "
      ]
     },
     "execution_count": 35,
     "metadata": {},
     "output_type": "execute_result"
    }
   ],
   "source": [
    "dataset2.head()"
   ]
  },
  {
   "cell_type": "code",
   "execution_count": 36,
   "metadata": {
    "colab": {
     "base_uri": "https://localhost:8080/",
     "height": 323
    },
    "id": "aEpIytdr2916",
    "outputId": "d01c974b-f4eb-4e3d-b9d6-5861a1c9c5c6"
   },
   "outputs": [
    {
     "name": "stdout",
     "output_type": "stream",
     "text": [
      "<class 'pandas.core.frame.DataFrame'>\n",
      "RangeIndex: 20640 entries, 0 to 20639\n",
      "Data columns (total 9 columns):\n",
      " #   Column      Non-Null Count  Dtype  \n",
      "---  ------      --------------  -----  \n",
      " 0   MedInc      20640 non-null  float64\n",
      " 1   HouseAge    20640 non-null  float64\n",
      " 2   AveRooms    20640 non-null  float64\n",
      " 3   AveBedrms   20640 non-null  float64\n",
      " 4   Population  20640 non-null  float64\n",
      " 5   AveOccup    20640 non-null  float64\n",
      " 6   Latitude    20640 non-null  float64\n",
      " 7   Longitude   20640 non-null  float64\n",
      " 8   target      20640 non-null  float64\n",
      "dtypes: float64(9)\n",
      "memory usage: 1.4 MB\n"
     ]
    }
   ],
   "source": [
    "dataset2.info()"
   ]
  },
  {
   "cell_type": "markdown",
   "metadata": {},
   "source": [
    "## Correlation Matrix"
   ]
  },
  {
   "cell_type": "code",
   "execution_count": 37,
   "metadata": {
    "colab": {
     "base_uri": "https://localhost:8080/",
     "height": 1000
    },
    "id": "wSfdP6X63SLw",
    "outputId": "7e47fe05-dcef-4ba8-efd4-fdd27bdec438"
   },
   "outputs": [
    {
     "data": {
      "image/png": "[encoded data removed]",
      "text/plain": [
       "<Figure size 720x720 with 2 Axes>"
      ]
     },
     "metadata": {
      "needs_background": "light"
     },
     "output_type": "display_data"
    }
   ],
   "source": [
    "import seaborn as sns\n",
    "x=dataset2.iloc[:,[0,7]] #independent columns\n",
    "y=dataset2.iloc[:,[8]]   #target column i.e price range\n",
    "#get correlations of each features in dataset\n",
    "corrmat = dataset2.corr()\n",
    "top_corr_features = corrmat.index\n",
    "plt.figure(figsize=(10,10))\n",
    "#plot heat map\n",
    "g=sns.heatmap(dataset2[top_corr_features].corr(),annot=True,cmap=\"RdYlGn\")"
   ]
  },
  {
   "cell_type": "markdown",
   "metadata": {},
   "source": [
    "### Splitting Training and Testing data to - 80% - 20%"
   ]
  },
  {
   "cell_type": "code",
   "execution_count": 38,
   "metadata": {
    "colab": {
     "base_uri": "https://localhost:8080/",
     "height": 35
    },
    "id": "csedV99t8hw-",
    "outputId": "a8981df0-2c5a-4758-f0b1-1584cae89728"
   },
   "outputs": [],
   "source": [
    "\n",
    "cal_housing = fetch_california_housing()\n",
    "X = pd.DataFrame(cal_housing.data,columns=cal_housing.feature_names)\n",
    "y = cal_housing.target\n",
    "X_train, X_test, y_train, y_test = train_test_split(X, y,random_state=1, test_size=0.2)"
   ]
  },
  {
   "cell_type": "markdown",
   "metadata": {},
   "source": [
    "### Feature Scaling"
   ]
  },
  {
   "cell_type": "code",
   "execution_count": 39,
   "metadata": {
    "colab": {
     "base_uri": "https://localhost:8080/",
     "height": 35
    },
    "id": "p1qLukYu8nws",
    "outputId": "917a958f-bebf-4189-eb55-bd8bfd8e06e9"
   },
   "outputs": [],
   "source": [
    "sc_X = StandardScaler()\n",
    "X_train=sc_X.fit_transform(X_train)\n",
    "X_test=sc_X.transform(X_test)"
   ]
  },
  {
   "cell_type": "markdown",
   "metadata": {},
   "source": [
    "### Topology 1 - ReLu"
   ]
  },
  {
   "cell_type": "code",
   "execution_count": 40,
   "metadata": {
    "colab": {
     "base_uri": "https://localhost:8080/",
     "height": 199
    },
    "id": "NdjHPetX8qzD",
    "outputId": "2b7bf097-bfa6-4d4e-95cb-5be8995eaf51"
   },
   "outputs": [
    {
     "name": "stdout",
     "output_type": "stream",
     "text": [
      "The Score :  0.7633133194208844\n"
     ]
    }
   ],
   "source": [
    "reg = MLPRegressor(hidden_layer_sizes=(64,64,64),activation=\"relu\" ,random_state=1, max_iter=2000).fit(X_train, y_train)\n",
    "y_pred=reg.predict(X_test)\n",
    "print(\"The Score : \", (r2_score(y_pred, y_test)))"
   ]
  },
  {
   "cell_type": "markdown",
   "metadata": {
    "id": "mgeVqXHL9P2W"
   },
   "source": [
    "### Topology 2 - Logistic"
   ]
  },
  {
   "cell_type": "code",
   "execution_count": 41,
   "metadata": {},
   "outputs": [
    {
     "name": "stdout",
     "output_type": "stream",
     "text": [
      "The Score :   0.7085058870285091\n"
     ]
    }
   ],
   "source": [
    "reg_2 = MLPRegressor(hidden_layer_sizes=(50,50),activation=\"logistic\" ,random_state=1, max_iter=2000).fit(X_train, y_train)\n",
    "y_pred=reg_2.predict(X_test)\n",
    "print(\"The Score :  \", (r2_score(y_pred, y_test)))"
   ]
  },
  {
   "cell_type": "markdown",
   "metadata": {},
   "source": [
    "### Topology 3 - Tanh"
   ]
  },
  {
   "cell_type": "code",
   "execution_count": 45,
   "metadata": {},
   "outputs": [
    {
     "name": "stdout",
     "output_type": "stream",
     "text": [
      "The Score :  0.6987934783447711\n"
     ]
    }
   ],
   "source": [
    "reg_3 = MLPRegressor(hidden_layer_sizes=(32,64,200),activation=\"tanh\" ,random_state=1, max_iter=2000).fit(X_train, y_train)\n",
    "y_pred=reg_3.predict(X_test)\n",
    "print(\"The Score : \", (r2_score(y_pred, y_test)))"
   ]
  },
  {
   "cell_type": "markdown",
   "metadata": {},
   "source": [
    "### Topology 4 - Identity"
   ]
  },
  {
   "cell_type": "code",
   "execution_count": 51,
   "metadata": {},
   "outputs": [
    {
     "name": "stdout",
     "output_type": "stream",
     "text": [
      "The Score :  0.38369988828056245\n"
     ]
    }
   ],
   "source": [
    "reg_4 = MLPRegressor(hidden_layer_sizes=(100),activation=\"identity\" ,random_state=1, max_iter=2000).fit(X_train, y_train)\n",
    "y_pred=reg_4.predict(X_test)\n",
    "print(\"The Score : \", (r2_score(y_pred, y_test)))"
   ]
  },
  {
   "cell_type": "markdown",
   "metadata": {},
   "source": [
    "### Accuracy Visualization"
   ]
  },
  {
   "cell_type": "code",
   "execution_count": 56,
   "metadata": {},
   "outputs": [
    {
     "data": {
      "image/png": "[encoded data removed]",
      "text/plain": [
       "<Figure size 432x288 with 1 Axes>"
      ]
     },
     "metadata": {
      "needs_background": "light"
     },
     "output_type": "display_data"
    }
   ],
   "source": [
    "import seaborn as sns\n",
    "accuracy = [.76,.70,.69]\n",
    "hidden_layers = ['Topology 1', 'Toplogy 2', 'Topology 3']\n",
    "Dataset = pd.DataFrame({'Accuracy':accuracy,'Topologies':hidden_layers})\n",
    "sns.lineplot(x = 'Topologies', y = 'Accuracy', data=Dataset)\n",
    "plt.show() # to show graph"
   ]
  },
  {
   "cell_type": "markdown",
   "metadata": {},
   "source": [
    "## Advantages of MLP :\n",
    "\n",
    "- Capability to learn non-linear models.\n",
    "- Capability to learn models in real-time (on-line learning) using partial_fit.\n",
    "\n",
    "## Disadvantages of MLP :\n",
    "\n",
    "- MLP with hidden layers have a non-convex loss function where there exists more than one local minimum. Therefore different random weight initializations can lead to different validation accuracy.\n",
    "- MLP requires tuning a number of hyperparameters such as the number of hidden neurons, layers, and iterations.\n",
    "- MLP is sensitive to feature scaling."
   ]
  },
  {
   "cell_type": "markdown",
   "metadata": {},
   "source": [
    "===================================================================================================== SANDHYA M 1947139"
   ]
  }
 ],
 "metadata": {
  "colab": {
   "collapsed_sections": [],
   "name": "Lab11(MLP).ipynb",
   "provenance": []
  },
  "kernelspec": {
   "display_name": "Python 3",
   "language": "python",
   "name": "python3"
  },
  "language_info": {
   "codemirror_mode": {
    "name": "ipython",
    "version": 3
   },
   "file_extension": ".py",
   "mimetype": "text/x-python",
   "name": "python",
   "nbconvert_exporter": "python",
   "pygments_lexer": "ipython3",
   "version": "3.7.9"
  },
  "latex_envs": {
   "LaTeX_envs_menu_present": true,
   "autoclose": false,
   "autocomplete": true,
   "bibliofile": "biblio.bib",
   "cite_by": "apalike",
   "current_citInitial": 1,
   "eqLabelWithNumbers": true,
   "eqNumInitial": 1,
   "hotkeys": {
    "equation": "Ctrl-E",
    "itemize": "Ctrl-I"
   },
   "labels_anchors": false,
   "latex_user_defs": false,
   "report_style_numbering": false,
   "user_envs_cfg": false
  }
 },
 "nbformat": 4,
 "nbformat_minor": 1
}
